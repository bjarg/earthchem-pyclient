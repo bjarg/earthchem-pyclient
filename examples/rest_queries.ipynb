{
 "cells": [
  {
   "cell_type": "code",
   "execution_count": 1,
   "metadata": {},
   "outputs": [
    {
     "data": {
      "text/plain": [
       "'0.0.1+6.g32caee3.dirty'"
      ]
     },
     "execution_count": 1,
     "metadata": {},
     "output_type": "execute_result"
    }
   ],
   "source": [
    "import earthchem\n",
    "earthchem.__version__"
   ]
  },
  {
   "cell_type": "code",
   "execution_count": 11,
   "metadata": {},
   "outputs": [
    {
     "data": {
      "text/plain": [
       "'http://ecp.iedadata.org/restsearchservice?outputtype=json&author=klump'"
      ]
     },
     "execution_count": 11,
     "metadata": {},
     "output_type": "execute_result"
    }
   ],
   "source": [
    "from earthchem.documentation import *\n",
    "from earthchem.query import RESTClientQuery\n",
    "\n",
    "q = RESTClientQuery(author='klump')\n",
    "q.url"
   ]
  },
  {
   "cell_type": "code",
   "execution_count": 17,
   "metadata": {},
   "outputs": [
    {
     "data": {
      "text/plain": [
       "'RESTClientQuery(author=barnes)'"
      ]
     },
     "execution_count": 17,
     "metadata": {},
     "output_type": "execute_result"
    }
   ],
   "source": [
    "q.__repr__()"
   ]
  },
  {
   "cell_type": "code",
   "execution_count": 12,
   "metadata": {},
   "outputs": [
    {
     "data": {
      "text/plain": [
       "0"
      ]
     },
     "execution_count": 12,
     "metadata": {},
     "output_type": "execute_result"
    }
   ],
   "source": [
    "q.count()"
   ]
  },
  {
   "cell_type": "code",
   "execution_count": 13,
   "metadata": {},
   "outputs": [
    {
     "name": "stdout",
     "output_type": "stream",
     "text": [
      "Didn't find any records, returning None\n"
     ]
    }
   ],
   "source": [
    "q.dataframe()"
   ]
  },
  {
   "cell_type": "code",
   "execution_count": 14,
   "metadata": {},
   "outputs": [
    {
     "data": {
      "text/html": [
       "<div>\n",
       "<style scoped>\n",
       "    .dataframe tbody tr th:only-of-type {\n",
       "        vertical-align: middle;\n",
       "    }\n",
       "\n",
       "    .dataframe tbody tr th {\n",
       "        vertical-align: top;\n",
       "    }\n",
       "\n",
       "    .dataframe thead th {\n",
       "        text-align: right;\n",
       "    }\n",
       "</style>\n",
       "<table border=\"1\" class=\"dataframe\">\n",
       "  <thead>\n",
       "    <tr style=\"text-align: right;\">\n",
       "      <th></th>\n",
       "      <th>ag</th>\n",
       "      <th>al2o3</th>\n",
       "      <th>as</th>\n",
       "      <th>au</th>\n",
       "      <th>author</th>\n",
       "      <th>b</th>\n",
       "      <th>ba</th>\n",
       "      <th>be</th>\n",
       "      <th>be10_be</th>\n",
       "      <th>bi</th>\n",
       "      <th>...</th>\n",
       "      <th>type</th>\n",
       "      <th>u</th>\n",
       "      <th>u235_pb207</th>\n",
       "      <th>u238_pb206</th>\n",
       "      <th>v</th>\n",
       "      <th>w</th>\n",
       "      <th>y</th>\n",
       "      <th>yb</th>\n",
       "      <th>zn</th>\n",
       "      <th>zr</th>\n",
       "    </tr>\n",
       "  </thead>\n",
       "  <tbody>\n",
       "    <tr>\n",
       "      <th>0</th>\n",
       "      <td></td>\n",
       "      <td></td>\n",
       "      <td></td>\n",
       "      <td></td>\n",
       "      <td>BARNES, J. D.; STRAUB, S. M.</td>\n",
       "      <td></td>\n",
       "      <td></td>\n",
       "      <td></td>\n",
       "      <td></td>\n",
       "      <td></td>\n",
       "      <td>...</td>\n",
       "      <td>volcanic</td>\n",
       "      <td></td>\n",
       "      <td></td>\n",
       "      <td></td>\n",
       "      <td></td>\n",
       "      <td></td>\n",
       "      <td></td>\n",
       "      <td></td>\n",
       "      <td></td>\n",
       "      <td></td>\n",
       "    </tr>\n",
       "    <tr>\n",
       "      <th>1</th>\n",
       "      <td></td>\n",
       "      <td>13.3</td>\n",
       "      <td></td>\n",
       "      <td></td>\n",
       "      <td>BARNES, J. D.; STRAUB, S. M.</td>\n",
       "      <td></td>\n",
       "      <td></td>\n",
       "      <td></td>\n",
       "      <td></td>\n",
       "      <td></td>\n",
       "      <td>...</td>\n",
       "      <td>volcanic</td>\n",
       "      <td></td>\n",
       "      <td></td>\n",
       "      <td></td>\n",
       "      <td></td>\n",
       "      <td></td>\n",
       "      <td></td>\n",
       "      <td></td>\n",
       "      <td></td>\n",
       "      <td></td>\n",
       "    </tr>\n",
       "    <tr>\n",
       "      <th>2</th>\n",
       "      <td></td>\n",
       "      <td>14.2</td>\n",
       "      <td></td>\n",
       "      <td></td>\n",
       "      <td>BARNES, J. D.; STRAUB, S. M.</td>\n",
       "      <td></td>\n",
       "      <td></td>\n",
       "      <td></td>\n",
       "      <td></td>\n",
       "      <td></td>\n",
       "      <td>...</td>\n",
       "      <td>volcanic</td>\n",
       "      <td></td>\n",
       "      <td></td>\n",
       "      <td></td>\n",
       "      <td></td>\n",
       "      <td></td>\n",
       "      <td></td>\n",
       "      <td></td>\n",
       "      <td></td>\n",
       "      <td></td>\n",
       "    </tr>\n",
       "    <tr>\n",
       "      <th>3</th>\n",
       "      <td></td>\n",
       "      <td>13.6</td>\n",
       "      <td></td>\n",
       "      <td></td>\n",
       "      <td>BARNES, J. D.; STRAUB, S. M.</td>\n",
       "      <td></td>\n",
       "      <td></td>\n",
       "      <td></td>\n",
       "      <td></td>\n",
       "      <td></td>\n",
       "      <td>...</td>\n",
       "      <td>volcanic</td>\n",
       "      <td></td>\n",
       "      <td></td>\n",
       "      <td></td>\n",
       "      <td></td>\n",
       "      <td></td>\n",
       "      <td></td>\n",
       "      <td></td>\n",
       "      <td></td>\n",
       "      <td></td>\n",
       "    </tr>\n",
       "    <tr>\n",
       "      <th>4</th>\n",
       "      <td></td>\n",
       "      <td>14.3</td>\n",
       "      <td></td>\n",
       "      <td></td>\n",
       "      <td>BARNES, J. D.; STRAUB, S. M.</td>\n",
       "      <td></td>\n",
       "      <td></td>\n",
       "      <td></td>\n",
       "      <td></td>\n",
       "      <td></td>\n",
       "      <td>...</td>\n",
       "      <td>volcanic</td>\n",
       "      <td></td>\n",
       "      <td></td>\n",
       "      <td></td>\n",
       "      <td></td>\n",
       "      <td></td>\n",
       "      <td></td>\n",
       "      <td></td>\n",
       "      <td></td>\n",
       "      <td></td>\n",
       "    </tr>\n",
       "  </tbody>\n",
       "</table>\n",
       "<p>5 rows × 109 columns</p>\n",
       "</div>"
      ],
      "text/plain": [
       "  ag al2o3 as au                        author b ba be be10_be bi ...  \\\n",
       "0                 BARNES, J. D.; STRAUB, S. M.                    ...   \n",
       "1     13.3        BARNES, J. D.; STRAUB, S. M.                    ...   \n",
       "2     14.2        BARNES, J. D.; STRAUB, S. M.                    ...   \n",
       "3     13.6        BARNES, J. D.; STRAUB, S. M.                    ...   \n",
       "4     14.3        BARNES, J. D.; STRAUB, S. M.                    ...   \n",
       "\n",
       "       type u u235_pb207 u238_pb206 v w y yb zn zr  \n",
       "0  volcanic                                         \n",
       "1  volcanic                                         \n",
       "2  volcanic                                         \n",
       "3  volcanic                                         \n",
       "4  volcanic                                         \n",
       "\n",
       "[5 rows x 109 columns]"
      ]
     },
     "execution_count": 14,
     "metadata": {},
     "output_type": "execute_result"
    }
   ],
   "source": [
    "q = RESTClientQuery(author='barnes')\n",
    "df = q.dataframe()\n",
    "df.head()"
   ]
  },
  {
   "cell_type": "code",
   "execution_count": 15,
   "metadata": {},
   "outputs": [
    {
     "data": {
      "text/plain": [
       "<matplotlib.axes._subplots.AxesSubplot at 0x7f3813666320>"
      ]
     },
     "execution_count": 15,
     "metadata": {},
     "output_type": "execute_result"
    },
    {
     "data": {
      "image/png": "[encoded data removed]",
      "text/plain": [
       "<matplotlib.figure.Figure at 0x7f38135ef470>"
      ]
     },
     "metadata": {},
     "output_type": "display_data"
    }
   ],
   "source": [
    "%matplotlib inline\n",
    "\n",
    "df.plot('longitude', 'latitude', 'scatter')"
   ]
  },
  {
   "cell_type": "markdown",
   "metadata": {},
   "source": [
    "### Schema validation against examples"
   ]
  },
  {
   "cell_type": "code",
   "execution_count": 188,
   "metadata": {},
   "outputs": [],
   "source": [
    "import os\n",
    "from lxml import etree, objectify\n",
    "from lxml.etree import XMLSyntaxError\n",
    "\n",
    "SOAP_SCHEMA = os.path.abspath('../earthchem/resources/soap_search_schema.xsd')\n",
    "TYPE_MAPPING = {\n",
    "    '{{{}}}complexType'.format(self.ns['xs']): 'complex',\n",
    "    '{{{}}}simpleType'.format(self.ns['xs']): 'simple',\n",
    "    '{{{}}}string'.format(self.ns['xs']): 'string',\n",
    "    'xs:string': 'string'\n",
    "}\n",
    "\n",
    "def get_type(elem):\n",
    "    \"\"\" Get the data type for an XML element\n",
    "    \"\"\"    \n",
    "    # First check the attributes\n",
    "    attrtype = elem.get('type')\n",
    "    if attrtype is not None:\n",
    "        return TYPE_MAPPING[attrtype]\n",
    "\n",
    "    # Ok so there's probably some children to check then\n",
    "    # If we have children then we can have a complex type or a simple type\n",
    "    # If an xs:complexType we make a dict, if xs:simpleType we expect a string\n",
    "    for child in elem.getchildren():\n",
    "        try:\n",
    "            return TYPE_MAPPING[child.tag]\n",
    "        except KeyError:\n",
    "            continue\n",
    "    \n",
    "    # If we're here we dont' know what to do\n",
    "    raise ValueError(\"Can't parse type for element {}\".format(elem))\n",
    "\n",
    "class QueryElement(dict):\n",
    "    \n",
    "    \"\"\" Class to generate a query element for each \n",
    "        part of the query\n",
    "        \n",
    "        This generates fairly kludgy validators against \n",
    "        the SOAP search schema which will let us check that\n",
    "        a query is well-formed.\n",
    "        \n",
    "        Parameters:\n",
    "            name - the name of the query element.\n",
    "                Should be the same as in the XML soap\n",
    "                search schema.\n",
    "    \"\"\"\n",
    "    \n",
    "    ns = {\"xs\": \"http://www.w3.org/2001/XMLSchema\"}\n",
    "    \n",
    "    def __init__(self, name):\n",
    "        self.name = name.lower()\n",
    "        self.xmlname = name\n",
    "        \n",
    "        # Storage slots for caching\n",
    "        self._tree = None\n",
    "        \n",
    "        # Find the element for the given name\n",
    "        query = \"//xs:element[@name='{}']\".format(self.xmlname)\n",
    "        self.root = self.xpath(query)[0]\n",
    "        self.dtype = get_type(self.root)\n",
    "        if self.dtype == 'complex':\n",
    "            print('getting valid keys')\n",
    "            print('getting valid values')\n",
    "        elif self.dtype == 'simple':\n",
    "            print('getting valid values')\n",
    "        else:\n",
    "            print('Query is just a string')\n",
    "    \n",
    "    @property\n",
    "    def tree(self):\n",
    "        \"Return the XML tree for the SOAP schema\"\n",
    "        # Return from cache if we already have it\n",
    "        if self._tree is not None:\n",
    "            return self._tree\n",
    "        \n",
    "        # Otherwise just make a new tree\n",
    "        with open(soap_schema, 'r') as src:\n",
    "            self._tree = etree.parse(src)\n",
    "        \n",
    "        return self._tree\n",
    "    \n",
    "    def xpath(self, query):\n",
    "        \"Run an xpath query against our schema\"\n",
    "        return self.tree.xpath(query, namespaces=self.ns)\n",
    "    "
   ]
  },
  {
   "cell_type": "code",
   "execution_count": null,
   "metadata": {},
   "outputs": [],
   "source": []
  },
  {
   "cell_type": "code",
   "execution_count": 189,
   "metadata": {},
   "outputs": [
    {
     "name": "stdout",
     "output_type": "stream",
     "text": [
      "getting valid keys\n",
      "getting valid values\n"
     ]
    }
   ],
   "source": [
    "self = QueryElement('Reference')"
   ]
  },
  {
   "cell_type": "code",
   "execution_count": 190,
   "metadata": {},
   "outputs": [
    {
     "data": {
      "text/plain": [
       "{'{http://www.w3.org/2001/XMLSchema}complexType': 'complex',\n",
       " '{http://www.w3.org/2001/XMLSchema}simpleType': 'simple',\n",
       " '{http://www.w3.org/2001/XMLSchema}string': 'string'}"
      ]
     },
     "execution_count": 190,
     "metadata": {},
     "output_type": "execute_result"
    }
   ],
   "source": [
    "type_mapping"
   ]
  },
  {
   "cell_type": "code",
   "execution_count": 191,
   "metadata": {},
   "outputs": [
    {
     "data": {
      "text/plain": [
       "'complex'"
      ]
     },
     "execution_count": 191,
     "metadata": {},
     "output_type": "execute_result"
    }
   ],
   "source": [
    "get_type(self.root)"
   ]
  },
  {
   "cell_type": "code",
   "execution_count": 285,
   "metadata": {},
   "outputs": [],
   "source": [
    "def complex_validator(elem):\n",
    "    \"\"\" Construct a validator for an xs:complexType\n",
    "    \"\"\"\n",
    "    # Pull together keys and validators for each key\n",
    "    validators = {}\n",
    "    for attr in elem.xpath('./xs:complexType/xs:attribute', namespaces=self.ns):\n",
    "        # Decide what type of validator we need based on attribute type\n",
    "        attrtype = get_type(attr)\n",
    "        if attrtype == 'string':\n",
    "            # We accept anything for strings\n",
    "            validators[name] = string_validator(attr)\n",
    "            \n",
    "        elif attrtype == 'simple':\n",
    "            # For simple types there's a restriction on values\n",
    "            print('constructing simple validator')\n",
    "            validators[attr.get('name')] = construct_simple_validator(attr)\n",
    "            \n",
    "        elif attrtype == 'complex':\n",
    "            validators[attr.get('name')] = construct_complex_validator(attr)\n",
    "        \n",
    "    # Construct a validator function\n",
    "    name = elem.get('name')\n",
    "    def _validator(obj):\n",
    "        if type(obj) != dict:\n",
    "            raise ValueError('I expected a dict for parameter {} - got a {} instead ({})'.format(name, type(obj), obj))\n",
    "        \n",
    "        # Check keys and values against schema\n",
    "        for key, value in obj.items():\n",
    "            try:\n",
    "                if not validators\n",
    "    \n",
    "    return _validator\n",
    "\n",
    "def simple_validator(elem):\n",
    "    \"\"\" Construct a validator for an xs:simpleType - these are normally values\n",
    "        with particular restrictions\n",
    "    \"\"\"\n",
    "    # Construct a validator that checks values against known ok values\n",
    "    name = elem.get('name')\n",
    "    def _validator(obj):\n",
    "        if type(obj) != dict:\n",
    "            raise ValueError('I expected a str for parameter {} - got a {} instead ({})'.format(name, type(obj), obj))\n",
    "\n",
    "    # Return the validation function\n",
    "    return _validator\n",
    "\n",
    "def string_validator(elem):\n",
    "    \"\"\" String validator for objects - validates any string it's passed\n",
    "    \"\"\"\n",
    "    # Construct a validator that just checks that we have a string\n",
    "    name = elem.get('name')\n",
    "    def _validator(obj):\n",
    "        if type(obj) != str:\n",
    "            raise ValueError('I expected a string for parameter {} - got a {} instead ({})'.format(elem, type(obj), obj))\n",
    "        return True\n",
    "    \n",
    "    # Return the validation function\n",
    "    return _validator\n",
    "\n",
    "validator_mapping = {\n",
    "    'string': string_validator,\n",
    "    'complex': complex_validator,\n",
    "    'simple': simple_validator\n",
    "}\n",
    "\n",
    "def validate(dict_like, validators):\n",
    "    for key, value in dict_like.items():\n",
    "        try:\n",
    "            if not validators[key](value):\n",
    "                raise ValueError\n",
    "        except KeyError:\n",
    "            print('Invalid key {}, valid keys are {}'.format(key, validators.keys()))\n",
    "        print(validators[key](value))"
   ]
  },
  {
   "cell_type": "code",
   "execution_count": 286,
   "metadata": {},
   "outputs": [],
   "source": [
    "validators = construct_complex_validator(self.root)"
   ]
  },
  {
   "cell_type": "code",
   "execution_count": 287,
   "metadata": {},
   "outputs": [
    {
     "data": {
      "text/plain": [
       "dict_keys(['author', 'title', 'journal', 'doi', 'minpubyear', 'maxpubyear', 'exactpubyear'])"
      ]
     },
     "execution_count": 287,
     "metadata": {},
     "output_type": "execute_result"
    }
   ],
   "source": [
    "validators.keys()"
   ]
  },
  {
   "cell_type": "code",
   "execution_count": 288,
   "metadata": {},
   "outputs": [
    {
     "name": "stdout",
     "output_type": "stream",
     "text": [
      "True\n",
      "True\n"
     ]
    },
    {
     "ename": "ValueError",
     "evalue": "I expected a string for parameter doi - got a <class 'list'> instead (['http://dx.doi.org/asdfho.sdfl'])",
     "output_type": "error",
     "traceback": [
      "\u001b[0;31m---------------------------------------------------------------------------\u001b[0m",
      "\u001b[0;31mValueError\u001b[0m                                Traceback (most recent call last)",
      "\u001b[0;32m<ipython-input-288-b9bb37baac25>\u001b[0m in \u001b[0;36m<module>\u001b[0;34m()\u001b[0m\n\u001b[0;32m----> 1\u001b[0;31m \u001b[0mvalidate\u001b[0m\u001b[0;34m(\u001b[0m\u001b[0;34m{\u001b[0m\u001b[0;34m'author'\u001b[0m\u001b[0;34m:\u001b[0m \u001b[0;34m'Barnes'\u001b[0m\u001b[0;34m,\u001b[0m \u001b[0;34m'title'\u001b[0m\u001b[0;34m:\u001b[0m \u001b[0;34m'foo'\u001b[0m\u001b[0;34m,\u001b[0m \u001b[0;34m'doi'\u001b[0m\u001b[0;34m:\u001b[0m \u001b[0;34m[\u001b[0m\u001b[0;34m'http://dx.doi.org/asdfho.sdfl'\u001b[0m\u001b[0;34m]\u001b[0m\u001b[0;34m}\u001b[0m\u001b[0;34m,\u001b[0m \u001b[0mvalidators\u001b[0m\u001b[0;34m)\u001b[0m\u001b[0;34m\u001b[0m\u001b[0m\n\u001b[0m",
      "\u001b[0;32m<ipython-input-285-e3dd3032cca4>\u001b[0m in \u001b[0;36mvalidate\u001b[0;34m(dict_like, validators)\u001b[0m\n\u001b[1;32m     35\u001b[0m     \u001b[0;32mfor\u001b[0m \u001b[0mkey\u001b[0m\u001b[0;34m,\u001b[0m \u001b[0mvalue\u001b[0m \u001b[0;32min\u001b[0m \u001b[0mdict_like\u001b[0m\u001b[0;34m.\u001b[0m\u001b[0mitems\u001b[0m\u001b[0;34m(\u001b[0m\u001b[0;34m)\u001b[0m\u001b[0;34m:\u001b[0m\u001b[0;34m\u001b[0m\u001b[0m\n\u001b[1;32m     36\u001b[0m         \u001b[0;32mtry\u001b[0m\u001b[0;34m:\u001b[0m\u001b[0;34m\u001b[0m\u001b[0m\n\u001b[0;32m---> 37\u001b[0;31m             \u001b[0;32mif\u001b[0m \u001b[0;32mnot\u001b[0m \u001b[0mvalidators\u001b[0m\u001b[0;34m[\u001b[0m\u001b[0mkey\u001b[0m\u001b[0;34m]\u001b[0m\u001b[0;34m(\u001b[0m\u001b[0mvalue\u001b[0m\u001b[0;34m)\u001b[0m\u001b[0;34m:\u001b[0m\u001b[0;34m\u001b[0m\u001b[0m\n\u001b[0m\u001b[1;32m     38\u001b[0m                 \u001b[0;32mraise\u001b[0m \u001b[0mValueError\u001b[0m\u001b[0;34m\u001b[0m\u001b[0m\n\u001b[1;32m     39\u001b[0m         \u001b[0;32mexcept\u001b[0m \u001b[0mKeyError\u001b[0m\u001b[0;34m:\u001b[0m\u001b[0;34m\u001b[0m\u001b[0m\n",
      "\u001b[0;32m<ipython-input-285-e3dd3032cca4>\u001b[0m in \u001b[0;36m_validator\u001b[0;34m(obj)\u001b[0m\n\u001b[1;32m      4\u001b[0m     \u001b[0;32mdef\u001b[0m \u001b[0m_validator\u001b[0m\u001b[0;34m(\u001b[0m\u001b[0mobj\u001b[0m\u001b[0;34m)\u001b[0m\u001b[0;34m:\u001b[0m\u001b[0;34m\u001b[0m\u001b[0m\n\u001b[1;32m      5\u001b[0m         \u001b[0;32mif\u001b[0m \u001b[0mtype\u001b[0m\u001b[0;34m(\u001b[0m\u001b[0mobj\u001b[0m\u001b[0;34m)\u001b[0m \u001b[0;34m!=\u001b[0m \u001b[0mstr\u001b[0m\u001b[0;34m:\u001b[0m\u001b[0;34m\u001b[0m\u001b[0m\n\u001b[0;32m----> 6\u001b[0;31m             \u001b[0;32mraise\u001b[0m \u001b[0mValueError\u001b[0m\u001b[0;34m(\u001b[0m\u001b[0;34m'I expected a string for parameter {} - got a {} instead ({})'\u001b[0m\u001b[0;34m.\u001b[0m\u001b[0mformat\u001b[0m\u001b[0;34m(\u001b[0m\u001b[0mname\u001b[0m\u001b[0;34m,\u001b[0m \u001b[0mtype\u001b[0m\u001b[0;34m(\u001b[0m\u001b[0mobj\u001b[0m\u001b[0;34m)\u001b[0m\u001b[0;34m,\u001b[0m \u001b[0mobj\u001b[0m\u001b[0;34m)\u001b[0m\u001b[0;34m)\u001b[0m\u001b[0;34m\u001b[0m\u001b[0m\n\u001b[0m\u001b[1;32m      7\u001b[0m         \u001b[0;32melse\u001b[0m\u001b[0;34m:\u001b[0m\u001b[0;34m\u001b[0m\u001b[0m\n\u001b[1;32m      8\u001b[0m             \u001b[0;32mreturn\u001b[0m \u001b[0;32mTrue\u001b[0m\u001b[0;34m\u001b[0m\u001b[0m\n",
      "\u001b[0;31mValueError\u001b[0m: I expected a string for parameter doi - got a <class 'list'> instead (['http://dx.doi.org/asdfho.sdfl'])"
     ]
    }
   ],
   "source": [
    "validate({'author': 'Barnes', 'title': 'foo', 'doi': ['http://dx.doi.org/asdfho.sdfl']}, validators)"
   ]
  },
  {
   "cell_type": "code",
   "execution_count": 289,
   "metadata": {},
   "outputs": [
    {
     "data": {
      "text/plain": [
       "list"
      ]
     },
     "execution_count": 289,
     "metadata": {},
     "output_type": "execute_result"
    }
   ],
   "source": [
    "a = ['foo']\n",
    "type(a)"
   ]
  },
  {
   "cell_type": "code",
   "execution_count": 276,
   "metadata": {},
   "outputs": [
    {
     "data": {
      "text/plain": [
       "str"
      ]
     },
     "execution_count": 276,
     "metadata": {},
     "output_type": "execute_result"
    }
   ],
   "source": [
    "a = 'foo'\n",
    "type(a)"
   ]
  },
  {
   "cell_type": "code",
   "execution_count": null,
   "metadata": {},
   "outputs": [],
   "source": []
  }
 ],
 "metadata": {
  "kernelspec": {
   "display_name": "Python [default]",
   "language": "python",
   "name": "python3"
  },
  "language_info": {
   "codemirror_mode": {
    "name": "ipython",
    "version": 3
   },
   "file_extension": ".py",
   "mimetype": "text/x-python",
   "name": "python",
   "nbconvert_exporter": "python",
   "pygments_lexer": "ipython3",
   "version": "3.6.3"
  }
 },
 "nbformat": 4,
 "nbformat_minor": 2
}
