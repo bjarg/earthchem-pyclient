{
 "cells": [
  {
   "cell_type": "code",
   "execution_count": 1,
   "metadata": {},
   "outputs": [
    {
     "data": {
      "text/plain": [
       "'0.0.2+2.g5fe1c0f.dirty'"
      ]
     },
     "execution_count": 1,
     "metadata": {},
     "output_type": "execute_result"
    }
   ],
   "source": [
    "import earthchem\n",
    "earthchem.__version__"
   ]
  },
  {
   "cell_type": "markdown",
   "metadata": {},
   "source": [
    "Make a rest client"
   ]
  },
  {
   "cell_type": "code",
   "execution_count": 2,
   "metadata": {},
   "outputs": [
    {
     "data": {
      "text/plain": [
       "'http://ecp.iedadata.org/restsearchservice?outputtype=json&author=klump'"
      ]
     },
     "execution_count": 2,
     "metadata": {},
     "output_type": "execute_result"
    }
   ],
   "source": [
    "from earthchem.query import RESTClientQuery\n",
    "\n",
    "q = RESTClientQuery(author='klump')\n",
    "q.url"
   ]
  },
  {
   "cell_type": "markdown",
   "metadata": {},
   "source": [
    "How many records have we found?"
   ]
  },
  {
   "cell_type": "code",
   "execution_count": 3,
   "metadata": {},
   "outputs": [
    {
     "data": {
      "text/plain": [
       "0"
      ]
     },
     "execution_count": 3,
     "metadata": {},
     "output_type": "execute_result"
    }
   ],
   "source": [
    "q.count()"
   ]
  },
  {
   "cell_type": "code",
   "execution_count": 4,
   "metadata": {},
   "outputs": [
    {
     "name": "stdout",
     "output_type": "stream",
     "text": [
      "Didn't find any records, returning None\n"
     ]
    }
   ],
   "source": [
    "q.dataframe()"
   ]
  },
  {
   "cell_type": "markdown",
   "metadata": {},
   "source": [
    "Let's try another author"
   ]
  },
  {
   "cell_type": "code",
   "execution_count": 5,
   "metadata": {},
   "outputs": [
    {
     "data": {
      "text/plain": [
       "4902"
      ]
     },
     "execution_count": 5,
     "metadata": {},
     "output_type": "execute_result"
    }
   ],
   "source": [
    "q = RESTClientQuery(author='barnes')\n",
    "q.count()"
   ]
  },
  {
   "cell_type": "markdown",
   "metadata": {},
   "source": [
    "Get the first 50 records"
   ]
  },
  {
   "cell_type": "code",
   "execution_count": 6,
   "metadata": {},
   "outputs": [
    {
     "data": {
      "text/html": [
       "<div>\n",
       "<style scoped>\n",
       "    .dataframe tbody tr th:only-of-type {\n",
       "        vertical-align: middle;\n",
       "    }\n",
       "\n",
       "    .dataframe tbody tr th {\n",
       "        vertical-align: top;\n",
       "    }\n",
       "\n",
       "    .dataframe thead th {\n",
       "        text-align: right;\n",
       "    }\n",
       "</style>\n",
       "<table border=\"1\" class=\"dataframe\">\n",
       "  <thead>\n",
       "    <tr style=\"text-align: right;\">\n",
       "      <th></th>\n",
       "      <th>al2o3</th>\n",
       "      <th>author</th>\n",
       "      <th>cao</th>\n",
       "      <th>cl</th>\n",
       "      <th>composition</th>\n",
       "      <th>feot</th>\n",
       "      <th>journal</th>\n",
       "      <th>k</th>\n",
       "      <th>k2o</th>\n",
       "      <th>latitude</th>\n",
       "      <th>...</th>\n",
       "      <th>mno</th>\n",
       "      <th>na2o</th>\n",
       "      <th>p2o5</th>\n",
       "      <th>rock_name</th>\n",
       "      <th>sample_id</th>\n",
       "      <th>sio2</th>\n",
       "      <th>source</th>\n",
       "      <th>tio2</th>\n",
       "      <th>title</th>\n",
       "      <th>type</th>\n",
       "    </tr>\n",
       "  </thead>\n",
       "  <tbody>\n",
       "    <tr>\n",
       "      <th>0</th>\n",
       "      <td>NaN</td>\n",
       "      <td>BARNES, J. D.; STRAUB, S. M.</td>\n",
       "      <td>NaN</td>\n",
       "      <td>647.0</td>\n",
       "      <td>unknown</td>\n",
       "      <td>NaN</td>\n",
       "      <td>CHEM. GEOL.</td>\n",
       "      <td>NaN</td>\n",
       "      <td>NaN</td>\n",
       "      <td>18.0448</td>\n",
       "      <td>...</td>\n",
       "      <td>NaN</td>\n",
       "      <td>NaN</td>\n",
       "      <td>NaN</td>\n",
       "      <td>not-given</td>\n",
       "      <td>64DS</td>\n",
       "      <td>NaN</td>\n",
       "      <td>GEOROC</td>\n",
       "      <td>NaN</td>\n",
       "      <td>CHLORINE STABLE ISOTOPE VARIATIONS IN IZU BONI...</td>\n",
       "      <td>volcanic</td>\n",
       "    </tr>\n",
       "    <tr>\n",
       "      <th>1</th>\n",
       "      <td>13.3</td>\n",
       "      <td>BARNES, J. D.; STRAUB, S. M.</td>\n",
       "      <td>9.37</td>\n",
       "      <td>560.0</td>\n",
       "      <td>unknown</td>\n",
       "      <td>12.63</td>\n",
       "      <td>CHEM. GEOL.</td>\n",
       "      <td>NaN</td>\n",
       "      <td>0.30</td>\n",
       "      <td>30.8610</td>\n",
       "      <td>...</td>\n",
       "      <td>0.31</td>\n",
       "      <td>2.20</td>\n",
       "      <td>0.10</td>\n",
       "      <td>not-given</td>\n",
       "      <td>125-782A-29X3-42-46</td>\n",
       "      <td>48.47</td>\n",
       "      <td>GEOROC</td>\n",
       "      <td>1.02</td>\n",
       "      <td>CHLORINE STABLE ISOTOPE VARIATIONS IN IZU BONI...</td>\n",
       "      <td>volcanic</td>\n",
       "    </tr>\n",
       "    <tr>\n",
       "      <th>2</th>\n",
       "      <td>14.2</td>\n",
       "      <td>BARNES, J. D.; STRAUB, S. M.</td>\n",
       "      <td>8.84</td>\n",
       "      <td>960.0</td>\n",
       "      <td>unknown</td>\n",
       "      <td>10.78</td>\n",
       "      <td>CHEM. GEOL.</td>\n",
       "      <td>NaN</td>\n",
       "      <td>0.33</td>\n",
       "      <td>30.8610</td>\n",
       "      <td>...</td>\n",
       "      <td>0.38</td>\n",
       "      <td>2.60</td>\n",
       "      <td>0.10</td>\n",
       "      <td>not-given</td>\n",
       "      <td>125-782A-29X3-42-46</td>\n",
       "      <td>52.00</td>\n",
       "      <td>GEOROC</td>\n",
       "      <td>0.86</td>\n",
       "      <td>CHLORINE STABLE ISOTOPE VARIATIONS IN IZU BONI...</td>\n",
       "      <td>volcanic</td>\n",
       "    </tr>\n",
       "    <tr>\n",
       "      <th>3</th>\n",
       "      <td>13.6</td>\n",
       "      <td>BARNES, J. D.; STRAUB, S. M.</td>\n",
       "      <td>9.30</td>\n",
       "      <td>1170.0</td>\n",
       "      <td>unknown</td>\n",
       "      <td>12.43</td>\n",
       "      <td>CHEM. GEOL.</td>\n",
       "      <td>NaN</td>\n",
       "      <td>0.26</td>\n",
       "      <td>30.8610</td>\n",
       "      <td>...</td>\n",
       "      <td>0.22</td>\n",
       "      <td>2.27</td>\n",
       "      <td>0.11</td>\n",
       "      <td>not-given</td>\n",
       "      <td>125-782A-29X3-42-46</td>\n",
       "      <td>49.72</td>\n",
       "      <td>GEOROC</td>\n",
       "      <td>0.98</td>\n",
       "      <td>CHLORINE STABLE ISOTOPE VARIATIONS IN IZU BONI...</td>\n",
       "      <td>volcanic</td>\n",
       "    </tr>\n",
       "    <tr>\n",
       "      <th>4</th>\n",
       "      <td>14.3</td>\n",
       "      <td>BARNES, J. D.; STRAUB, S. M.</td>\n",
       "      <td>6.39</td>\n",
       "      <td>1870.0</td>\n",
       "      <td>unknown</td>\n",
       "      <td>8.02</td>\n",
       "      <td>CHEM. GEOL.</td>\n",
       "      <td>NaN</td>\n",
       "      <td>0.64</td>\n",
       "      <td>30.8610</td>\n",
       "      <td>...</td>\n",
       "      <td>0.22</td>\n",
       "      <td>3.77</td>\n",
       "      <td>0.15</td>\n",
       "      <td>not-given</td>\n",
       "      <td>125-782A-29X3-42-46</td>\n",
       "      <td>57.82</td>\n",
       "      <td>GEOROC</td>\n",
       "      <td>0.83</td>\n",
       "      <td>CHLORINE STABLE ISOTOPE VARIATIONS IN IZU BONI...</td>\n",
       "      <td>volcanic</td>\n",
       "    </tr>\n",
       "  </tbody>\n",
       "</table>\n",
       "<p>5 rows × 24 columns</p>\n",
       "</div>"
      ],
      "text/plain": [
       "   al2o3                        author   cao      cl composition   feot  \\\n",
       "0    NaN  BARNES, J. D.; STRAUB, S. M.   NaN   647.0     unknown    NaN   \n",
       "1   13.3  BARNES, J. D.; STRAUB, S. M.  9.37   560.0     unknown  12.63   \n",
       "2   14.2  BARNES, J. D.; STRAUB, S. M.  8.84   960.0     unknown  10.78   \n",
       "3   13.6  BARNES, J. D.; STRAUB, S. M.  9.30  1170.0     unknown  12.43   \n",
       "4   14.3  BARNES, J. D.; STRAUB, S. M.  6.39  1870.0     unknown   8.02   \n",
       "\n",
       "       journal   k   k2o  latitude    ...      mno  na2o  p2o5  rock_name  \\\n",
       "0  CHEM. GEOL. NaN   NaN   18.0448    ...      NaN   NaN   NaN  not-given   \n",
       "1  CHEM. GEOL. NaN  0.30   30.8610    ...     0.31  2.20  0.10  not-given   \n",
       "2  CHEM. GEOL. NaN  0.33   30.8610    ...     0.38  2.60  0.10  not-given   \n",
       "3  CHEM. GEOL. NaN  0.26   30.8610    ...     0.22  2.27  0.11  not-given   \n",
       "4  CHEM. GEOL. NaN  0.64   30.8610    ...     0.22  3.77  0.15  not-given   \n",
       "\n",
       "             sample_id   sio2  source  tio2  \\\n",
       "0                 64DS    NaN  GEOROC   NaN   \n",
       "1  125-782A-29X3-42-46  48.47  GEOROC  1.02   \n",
       "2  125-782A-29X3-42-46  52.00  GEOROC  0.86   \n",
       "3  125-782A-29X3-42-46  49.72  GEOROC  0.98   \n",
       "4  125-782A-29X3-42-46  57.82  GEOROC  0.83   \n",
       "\n",
       "                                               title      type  \n",
       "0  CHLORINE STABLE ISOTOPE VARIATIONS IN IZU BONI...  volcanic  \n",
       "1  CHLORINE STABLE ISOTOPE VARIATIONS IN IZU BONI...  volcanic  \n",
       "2  CHLORINE STABLE ISOTOPE VARIATIONS IN IZU BONI...  volcanic  \n",
       "3  CHLORINE STABLE ISOTOPE VARIATIONS IN IZU BONI...  volcanic  \n",
       "4  CHLORINE STABLE ISOTOPE VARIATIONS IN IZU BONI...  volcanic  \n",
       "\n",
       "[5 rows x 24 columns]"
      ]
     },
     "execution_count": 6,
     "metadata": {},
     "output_type": "execute_result"
    }
   ],
   "source": [
    "df = q.dataframe()\n",
    "df.head()"
   ]
  },
  {
   "cell_type": "code",
   "execution_count": 18,
   "metadata": {},
   "outputs": [],
   "source": [
    "from collections import defaultdict"
   ]
  },
  {
   "cell_type": "code",
   "execution_count": 19,
   "metadata": {},
   "outputs": [],
   "source": [
    "stuff = defaultdict(list)"
   ]
  },
  {
   "cell_type": "code",
   "execution_count": 21,
   "metadata": {},
   "outputs": [],
   "source": [
    "for k, c in df.items():\n",
    "    stuff[str(c.dtype)].append(k)"
   ]
  },
  {
   "cell_type": "code",
   "execution_count": 22,
   "metadata": {},
   "outputs": [
    {
     "data": {
      "text/plain": [
       "defaultdict(list,\n",
       "            {'float64': ['al2o3',\n",
       "              'cao',\n",
       "              'cl',\n",
       "              'feot',\n",
       "              'k',\n",
       "              'k2o',\n",
       "              'latitude',\n",
       "              'longitude',\n",
       "              'mgo',\n",
       "              'mno',\n",
       "              'na2o',\n",
       "              'p2o5',\n",
       "              'sio2',\n",
       "              'tio2'],\n",
       "             'object': ['author',\n",
       "              'composition',\n",
       "              'journal',\n",
       "              'material',\n",
       "              'method',\n",
       "              'rock_name',\n",
       "              'sample_id',\n",
       "              'source',\n",
       "              'title',\n",
       "              'type']})"
      ]
     },
     "execution_count": 22,
     "metadata": {},
     "output_type": "execute_result"
    }
   ],
   "source": [
    "stuff"
   ]
  },
  {
   "cell_type": "code",
   "execution_count": 20,
   "metadata": {},
   "outputs": [
    {
     "data": {
      "text/plain": [
       "[('al2o3', 'float64'),\n",
       " ('author', 'object'),\n",
       " ('cao', 'float64'),\n",
       " ('cl', 'float64'),\n",
       " ('composition', 'object'),\n",
       " ('feot', 'float64'),\n",
       " ('journal', 'object'),\n",
       " ('k', 'float64'),\n",
       " ('k2o', 'float64'),\n",
       " ('latitude', 'float64'),\n",
       " ('longitude', 'float64'),\n",
       " ('material', 'object'),\n",
       " ('method', 'object'),\n",
       " ('mgo', 'float64'),\n",
       " ('mno', 'float64'),\n",
       " ('na2o', 'float64'),\n",
       " ('p2o5', 'float64'),\n",
       " ('rock_name', 'object'),\n",
       " ('sample_id', 'object'),\n",
       " ('sio2', 'float64'),\n",
       " ('source', 'object'),\n",
       " ('tio2', 'float64'),\n",
       " ('title', 'object'),\n",
       " ('type', 'object')]"
      ]
     },
     "execution_count": 20,
     "metadata": {},
     "output_type": "execute_result"
    }
   ],
   "source": [
    "[(k, str(c.dtype)) for k, c in df.items()]"
   ]
  },
  {
   "cell_type": "markdown",
   "metadata": {},
   "source": [
    "Now we can generate a plot of this data"
   ]
  },
  {
   "cell_type": "code",
   "execution_count": 8,
   "metadata": {},
   "outputs": [
    {
     "data": {
      "text/plain": [
       "<matplotlib.axes._subplots.AxesSubplot at 0x7fd8d873ef98>"
      ]
     },
     "execution_count": 8,
     "metadata": {},
     "output_type": "execute_result"
    },
    {
     "data": {
      "image/png": "[encoded data removed]",
      "text/plain": [
       "<matplotlib.figure.Figure at 0x7fd8d87471d0>"
      ]
     },
     "metadata": {},
     "output_type": "display_data"
    }
   ],
   "source": [
    "%matplotlib inline\n",
    "\n",
    "df.plot('longitude', 'latitude', 'scatter')"
   ]
  },
  {
   "cell_type": "code",
   "execution_count": 10,
   "metadata": {},
   "outputs": [
    {
     "data": {
      "text/plain": [
       "<matplotlib.axes._subplots.AxesSubplot at 0x7fd8d4e716a0>"
      ]
     },
     "execution_count": 10,
     "metadata": {},
     "output_type": "execute_result"
    },
    {
     "data": {
      "image/png": "[encoded data removed]",
      "text/plain": [
       "<matplotlib.figure.Figure at 0x7fd8d4e3d7f0>"
      ]
     },
     "metadata": {},
     "output_type": "display_data"
    }
   ],
   "source": [
    "df.plot('al2o3', 'mgo', 'scatter')"
   ]
  },
  {
   "cell_type": "markdown",
   "metadata": {},
   "source": [
    "### Schema validation against examples"
   ]
  },
  {
   "cell_type": "code",
   "execution_count": 188,
   "metadata": {},
   "outputs": [],
   "source": [
    "import os\n",
    "from lxml import etree, objectify\n",
    "from lxml.etree import XMLSyntaxError\n",
    "\n",
    "SOAP_SCHEMA = os.path.abspath('../earthchem/resources/soap_search_schema.xsd')\n",
    "TYPE_MAPPING = {\n",
    "    '{{{}}}complexType'.format(self.ns['xs']): 'complex',\n",
    "    '{{{}}}simpleType'.format(self.ns['xs']): 'simple',\n",
    "    '{{{}}}string'.format(self.ns['xs']): 'string',\n",
    "    'xs:string': 'string'\n",
    "}\n",
    "\n",
    "def get_type(elem):\n",
    "    \"\"\" Get the data type for an XML element\n",
    "    \"\"\"    \n",
    "    # First check the attributes\n",
    "    attrtype = elem.get('type')\n",
    "    if attrtype is not None:\n",
    "        return TYPE_MAPPING[attrtype]\n",
    "\n",
    "    # Ok so there's probably some children to check then\n",
    "    # If we have children then we can have a complex type or a simple type\n",
    "    # If an xs:complexType we make a dict, if xs:simpleType we expect a string\n",
    "    for child in elem.getchildren():\n",
    "        try:\n",
    "            return TYPE_MAPPING[child.tag]\n",
    "        except KeyError:\n",
    "            continue\n",
    "    \n",
    "    # If we're here we dont' know what to do\n",
    "    raise ValueError(\"Can't parse type for element {}\".format(elem))\n",
    "\n",
    "class QueryElement(dict):\n",
    "    \n",
    "    \"\"\" Class to generate a query element for each \n",
    "        part of the query\n",
    "        \n",
    "        This generates fairly kludgy validators against \n",
    "        the SOAP search schema which will let us check that\n",
    "        a query is well-formed.\n",
    "        \n",
    "        Parameters:\n",
    "            name - the name of the query element.\n",
    "                Should be the same as in the XML soap\n",
    "                search schema.\n",
    "    \"\"\"\n",
    "    \n",
    "    ns = {\"xs\": \"http://www.w3.org/2001/XMLSchema\"}\n",
    "    \n",
    "    def __init__(self, name):\n",
    "        self.name = name.lower()\n",
    "        self.xmlname = name\n",
    "        \n",
    "        # Storage slots for caching\n",
    "        self._tree = None\n",
    "        \n",
    "        # Find the element for the given name\n",
    "        query = \"//xs:element[@name='{}']\".format(self.xmlname)\n",
    "        self.root = self.xpath(query)[0]\n",
    "        self.dtype = get_type(self.root)\n",
    "        if self.dtype == 'complex':\n",
    "            print('getting valid keys')\n",
    "            print('getting valid values')\n",
    "        elif self.dtype == 'simple':\n",
    "            print('getting valid values')\n",
    "        else:\n",
    "            print('Query is just a string')\n",
    "    \n",
    "    @property\n",
    "    def tree(self):\n",
    "        \"Return the XML tree for the SOAP schema\"\n",
    "        # Return from cache if we already have it\n",
    "        if self._tree is not None:\n",
    "            return self._tree\n",
    "        \n",
    "        # Otherwise just make a new tree\n",
    "        with open(soap_schema, 'r') as src:\n",
    "            self._tree = etree.parse(src)\n",
    "        \n",
    "        return self._tree\n",
    "    \n",
    "    def xpath(self, query):\n",
    "        \"Run an xpath query against our schema\"\n",
    "        return self.tree.xpath(query, namespaces=self.ns)\n",
    "    "
   ]
  },
  {
   "cell_type": "code",
   "execution_count": null,
   "metadata": {},
   "outputs": [],
   "source": []
  },
  {
   "cell_type": "code",
   "execution_count": 189,
   "metadata": {},
   "outputs": [
    {
     "name": "stdout",
     "output_type": "stream",
     "text": [
      "getting valid keys\n",
      "getting valid values\n"
     ]
    }
   ],
   "source": [
    "self = QueryElement('Reference')"
   ]
  },
  {
   "cell_type": "code",
   "execution_count": 190,
   "metadata": {},
   "outputs": [
    {
     "data": {
      "text/plain": [
       "{'{http://www.w3.org/2001/XMLSchema}complexType': 'complex',\n",
       " '{http://www.w3.org/2001/XMLSchema}simpleType': 'simple',\n",
       " '{http://www.w3.org/2001/XMLSchema}string': 'string'}"
      ]
     },
     "execution_count": 190,
     "metadata": {},
     "output_type": "execute_result"
    }
   ],
   "source": [
    "type_mapping"
   ]
  },
  {
   "cell_type": "code",
   "execution_count": 191,
   "metadata": {},
   "outputs": [
    {
     "data": {
      "text/plain": [
       "'complex'"
      ]
     },
     "execution_count": 191,
     "metadata": {},
     "output_type": "execute_result"
    }
   ],
   "source": [
    "get_type(self.root)"
   ]
  },
  {
   "cell_type": "code",
   "execution_count": 285,
   "metadata": {},
   "outputs": [],
   "source": [
    "def complex_validator(elem):\n",
    "    \"\"\" Construct a validator for an xs:complexType\n",
    "    \"\"\"\n",
    "    # Pull together keys and validators for each key\n",
    "    validators = {}\n",
    "    for attr in elem.xpath('./xs:complexType/xs:attribute', namespaces=self.ns):\n",
    "        # Decide what type of validator we need based on attribute type\n",
    "        attrtype = get_type(attr)\n",
    "        if attrtype == 'string':\n",
    "            # We accept anything for strings\n",
    "            validators[name] = string_validator(attr)\n",
    "            \n",
    "        elif attrtype == 'simple':\n",
    "            # For simple types there's a restriction on values\n",
    "            print('constructing simple validator')\n",
    "            validators[attr.get('name')] = construct_simple_validator(attr)\n",
    "            \n",
    "        elif attrtype == 'complex':\n",
    "            validators[attr.get('name')] = construct_complex_validator(attr)\n",
    "        \n",
    "    # Construct a validator function\n",
    "    name = elem.get('name')\n",
    "    def _validator(obj):\n",
    "        if type(obj) != dict:\n",
    "            raise ValueError('I expected a dict for parameter {} - got a {} instead ({})'.format(name, type(obj), obj))\n",
    "        \n",
    "        # Check keys and values against schema\n",
    "        for key, value in obj.items():\n",
    "            try:\n",
    "                if not validators\n",
    "    \n",
    "    return _validator\n",
    "\n",
    "def simple_validator(elem):\n",
    "    \"\"\" Construct a validator for an xs:simpleType - these are normally values\n",
    "        with particular restrictions\n",
    "    \"\"\"\n",
    "    # Construct a validator that checks values against known ok values\n",
    "    name = elem.get('name')\n",
    "    def _validator(obj):\n",
    "        if type(obj) != dict:\n",
    "            raise ValueError('I expected a str for parameter {} - got a {} instead ({})'.format(name, type(obj), obj))\n",
    "\n",
    "    # Return the validation function\n",
    "    return _validator\n",
    "\n",
    "def string_validator(elem):\n",
    "    \"\"\" String validator for objects - validates any string it's passed\n",
    "    \"\"\"\n",
    "    # Construct a validator that just checks that we have a string\n",
    "    name = elem.get('name')\n",
    "    def _validator(obj):\n",
    "        if type(obj) != str:\n",
    "            raise ValueError('I expected a string for parameter {} - got a {} instead ({})'.format(elem, type(obj), obj))\n",
    "        return True\n",
    "    \n",
    "    # Return the validation function\n",
    "    return _validator\n",
    "\n",
    "validator_mapping = {\n",
    "    'string': string_validator,\n",
    "    'complex': complex_validator,\n",
    "    'simple': simple_validator\n",
    "}\n",
    "\n",
    "def validate(dict_like, validators):\n",
    "    for key, value in dict_like.items():\n",
    "        try:\n",
    "            if not validators[key](value):\n",
    "                raise ValueError\n",
    "        except KeyError:\n",
    "            print('Invalid key {}, valid keys are {}'.format(key, validators.keys()))\n",
    "        print(validators[key](value))"
   ]
  },
  {
   "cell_type": "code",
   "execution_count": 286,
   "metadata": {},
   "outputs": [],
   "source": [
    "validators = construct_complex_validator(self.root)"
   ]
  },
  {
   "cell_type": "code",
   "execution_count": 287,
   "metadata": {},
   "outputs": [
    {
     "data": {
      "text/plain": [
       "dict_keys(['author', 'title', 'journal', 'doi', 'minpubyear', 'maxpubyear', 'exactpubyear'])"
      ]
     },
     "execution_count": 287,
     "metadata": {},
     "output_type": "execute_result"
    }
   ],
   "source": [
    "validators.keys()"
   ]
  },
  {
   "cell_type": "code",
   "execution_count": 288,
   "metadata": {},
   "outputs": [
    {
     "name": "stdout",
     "output_type": "stream",
     "text": [
      "True\n",
      "True\n"
     ]
    },
    {
     "ename": "ValueError",
     "evalue": "I expected a string for parameter doi - got a <class 'list'> instead (['http://dx.doi.org/asdfho.sdfl'])",
     "output_type": "error",
     "traceback": [
      "\u001b[0;31m---------------------------------------------------------------------------\u001b[0m",
      "\u001b[0;31mValueError\u001b[0m                                Traceback (most recent call last)",
      "\u001b[0;32m<ipython-input-288-b9bb37baac25>\u001b[0m in \u001b[0;36m<module>\u001b[0;34m()\u001b[0m\n\u001b[0;32m----> 1\u001b[0;31m \u001b[0mvalidate\u001b[0m\u001b[0;34m(\u001b[0m\u001b[0;34m{\u001b[0m\u001b[0;34m'author'\u001b[0m\u001b[0;34m:\u001b[0m \u001b[0;34m'Barnes'\u001b[0m\u001b[0;34m,\u001b[0m \u001b[0;34m'title'\u001b[0m\u001b[0;34m:\u001b[0m \u001b[0;34m'foo'\u001b[0m\u001b[0;34m,\u001b[0m \u001b[0;34m'doi'\u001b[0m\u001b[0;34m:\u001b[0m \u001b[0;34m[\u001b[0m\u001b[0;34m'http://dx.doi.org/asdfho.sdfl'\u001b[0m\u001b[0;34m]\u001b[0m\u001b[0;34m}\u001b[0m\u001b[0;34m,\u001b[0m \u001b[0mvalidators\u001b[0m\u001b[0;34m)\u001b[0m\u001b[0;34m\u001b[0m\u001b[0m\n\u001b[0m",
      "\u001b[0;32m<ipython-input-285-e3dd3032cca4>\u001b[0m in \u001b[0;36mvalidate\u001b[0;34m(dict_like, validators)\u001b[0m\n\u001b[1;32m     35\u001b[0m     \u001b[0;32mfor\u001b[0m \u001b[0mkey\u001b[0m\u001b[0;34m,\u001b[0m \u001b[0mvalue\u001b[0m \u001b[0;32min\u001b[0m \u001b[0mdict_like\u001b[0m\u001b[0;34m.\u001b[0m\u001b[0mitems\u001b[0m\u001b[0;34m(\u001b[0m\u001b[0;34m)\u001b[0m\u001b[0;34m:\u001b[0m\u001b[0;34m\u001b[0m\u001b[0m\n\u001b[1;32m     36\u001b[0m         \u001b[0;32mtry\u001b[0m\u001b[0;34m:\u001b[0m\u001b[0;34m\u001b[0m\u001b[0m\n\u001b[0;32m---> 37\u001b[0;31m             \u001b[0;32mif\u001b[0m \u001b[0;32mnot\u001b[0m \u001b[0mvalidators\u001b[0m\u001b[0;34m[\u001b[0m\u001b[0mkey\u001b[0m\u001b[0;34m]\u001b[0m\u001b[0;34m(\u001b[0m\u001b[0mvalue\u001b[0m\u001b[0;34m)\u001b[0m\u001b[0;34m:\u001b[0m\u001b[0;34m\u001b[0m\u001b[0m\n\u001b[0m\u001b[1;32m     38\u001b[0m                 \u001b[0;32mraise\u001b[0m \u001b[0mValueError\u001b[0m\u001b[0;34m\u001b[0m\u001b[0m\n\u001b[1;32m     39\u001b[0m         \u001b[0;32mexcept\u001b[0m \u001b[0mKeyError\u001b[0m\u001b[0;34m:\u001b[0m\u001b[0;34m\u001b[0m\u001b[0m\n",
      "\u001b[0;32m<ipython-input-285-e3dd3032cca4>\u001b[0m in \u001b[0;36m_validator\u001b[0;34m(obj)\u001b[0m\n\u001b[1;32m      4\u001b[0m     \u001b[0;32mdef\u001b[0m \u001b[0m_validator\u001b[0m\u001b[0;34m(\u001b[0m\u001b[0mobj\u001b[0m\u001b[0;34m)\u001b[0m\u001b[0;34m:\u001b[0m\u001b[0;34m\u001b[0m\u001b[0m\n\u001b[1;32m      5\u001b[0m         \u001b[0;32mif\u001b[0m \u001b[0mtype\u001b[0m\u001b[0;34m(\u001b[0m\u001b[0mobj\u001b[0m\u001b[0;34m)\u001b[0m \u001b[0;34m!=\u001b[0m \u001b[0mstr\u001b[0m\u001b[0;34m:\u001b[0m\u001b[0;34m\u001b[0m\u001b[0m\n\u001b[0;32m----> 6\u001b[0;31m             \u001b[0;32mraise\u001b[0m \u001b[0mValueError\u001b[0m\u001b[0;34m(\u001b[0m\u001b[0;34m'I expected a string for parameter {} - got a {} instead ({})'\u001b[0m\u001b[0;34m.\u001b[0m\u001b[0mformat\u001b[0m\u001b[0;34m(\u001b[0m\u001b[0mname\u001b[0m\u001b[0;34m,\u001b[0m \u001b[0mtype\u001b[0m\u001b[0;34m(\u001b[0m\u001b[0mobj\u001b[0m\u001b[0;34m)\u001b[0m\u001b[0;34m,\u001b[0m \u001b[0mobj\u001b[0m\u001b[0;34m)\u001b[0m\u001b[0;34m)\u001b[0m\u001b[0;34m\u001b[0m\u001b[0m\n\u001b[0m\u001b[1;32m      7\u001b[0m         \u001b[0;32melse\u001b[0m\u001b[0;34m:\u001b[0m\u001b[0;34m\u001b[0m\u001b[0m\n\u001b[1;32m      8\u001b[0m             \u001b[0;32mreturn\u001b[0m \u001b[0;32mTrue\u001b[0m\u001b[0;34m\u001b[0m\u001b[0m\n",
      "\u001b[0;31mValueError\u001b[0m: I expected a string for parameter doi - got a <class 'list'> instead (['http://dx.doi.org/asdfho.sdfl'])"
     ]
    }
   ],
   "source": [
    "validate({'author': 'Barnes', 'title': 'foo', 'doi': ['http://dx.doi.org/asdfho.sdfl']}, validators)"
   ]
  },
  {
   "cell_type": "code",
   "execution_count": 289,
   "metadata": {},
   "outputs": [
    {
     "data": {
      "text/plain": [
       "list"
      ]
     },
     "execution_count": 289,
     "metadata": {},
     "output_type": "execute_result"
    }
   ],
   "source": [
    "a = ['foo']\n",
    "type(a)"
   ]
  },
  {
   "cell_type": "code",
   "execution_count": 276,
   "metadata": {},
   "outputs": [
    {
     "data": {
      "text/plain": [
       "str"
      ]
     },
     "execution_count": 276,
     "metadata": {},
     "output_type": "execute_result"
    }
   ],
   "source": [
    "a = 'foo'\n",
    "type(a)"
   ]
  },
  {
   "cell_type": "code",
   "execution_count": null,
   "metadata": {},
   "outputs": [],
   "source": []
  }
 ],
 "metadata": {
  "kernelspec": {
   "display_name": "Python [default]",
   "language": "python",
   "name": "python3"
  },
  "language_info": {
   "codemirror_mode": {
    "name": "ipython",
    "version": 3
   },
   "file_extension": ".py",
   "mimetype": "text/x-python",
   "name": "python",
   "nbconvert_exporter": "python",
   "pygments_lexer": "ipython3",
   "version": "3.6.3"
  }
 },
 "nbformat": 4,
 "nbformat_minor": 2
}
