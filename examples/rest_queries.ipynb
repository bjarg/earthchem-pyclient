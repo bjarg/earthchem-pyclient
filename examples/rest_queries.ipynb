{
 "cells": [
  {
   "cell_type": "code",
   "execution_count": 1,
   "metadata": {},
   "outputs": [],
   "source": [
    "from earthchem.documentation import *\n",
    "from earthchem.query import RESTClientQuery"
   ]
  },
  {
   "cell_type": "code",
   "execution_count": 2,
   "metadata": {},
   "outputs": [],
   "source": [
    "docs = get_documentation()"
   ]
  },
  {
   "cell_type": "code",
   "execution_count": 3,
   "metadata": {},
   "outputs": [],
   "source": [
    "q = RESTClientQuery(keyword='basalt', author='barnes')"
   ]
  },
  {
   "cell_type": "code",
   "execution_count": 4,
   "metadata": {},
   "outputs": [
    {
     "data": {
      "text/plain": [
       "'http://ecp.iedadata.org/restsearchservice?outputtype=json&keyword=basalt&author=barnes'"
      ]
     },
     "execution_count": 4,
     "metadata": {},
     "output_type": "execute_result"
    }
   ],
   "source": [
    "q.url"
   ]
  },
  {
   "cell_type": "code",
   "execution_count": 7,
   "metadata": {},
   "outputs": [
    {
     "data": {
      "text/plain": [
       "RESTClientQuery(keyword=basalt, author=barnes)"
      ]
     },
     "execution_count": 7,
     "metadata": {},
     "output_type": "execute_result"
    }
   ],
   "source": [
    "q"
   ]
  },
  {
   "cell_type": "code",
   "execution_count": 5,
   "metadata": {},
   "outputs": [
    {
     "data": {
      "text/plain": [
       "\u001b[0;31mType:\u001b[0m        RESTClientQuery\n",
       "\u001b[0;31mString form:\u001b[0m RESTClientQuery(keyword=basalt, author=barnes)\n",
       "\u001b[0;31mLength:\u001b[0m      2\n",
       "\u001b[0;31mFile:\u001b[0m        ~/Documents/earthchem/earthchem/query.py\n",
       "\u001b[0;31mDocstring:\u001b[0m  \n",
       "Holds a query for the EarthChem REST API\n",
       "\n",
       "Initialize by providing key-value pairs to build into a query URL. The\n",
       "URL is available in the `url` attribute, and the results from the\n",
       "`results` attribute.\n",
       "\n",
       "Providing a keyword not in the list below will raise a KeyError.\n",
       "\n",
       "Allowed keywords are:\n",
       "\n",
       "author - Author of reference citation.\n",
       "title - Title of citation journal article.\n",
       "journal - Name of citation journal.\n",
       "doi - DOI of citation article. (Note: not all ciations have a DOI assigned.)\n",
       "minpubyear - Minimum publication year of citation article. If minpubyear is\n",
       "    provided, maxpubyear must also be provided.\n",
       "maxpubyear - Maximum publication year of citation article. If maxpubyear is\n",
       "    provided, minpubyear must also be provided.\n",
       "exactpubyear - Exact publication year of citation article.\n",
       "keyword - The keyword query searches a generic descriptor field contained in the\n",
       "    EarthChem schema. This is a free-text field that allows the supported\n",
       "    datasets to provide a descriptor of their own choosing. Most often, this\n",
       "    field contains a short sample description describing the sample's location\n",
       "    and composition. The keyword search also includes rock name in the queried\n",
       "    results.\n",
       "sampleid - Sample Identifier provided by source database.\n",
       "polygon - This field allows a polygon to be provided in order to constrain\n",
       "    results geographically. The polygon must be provided in a closed format of\n",
       "    comma-delimited coordinate pairs.\n",
       "north - Northern bound of a geographic envelope used to constrain results\n",
       "    geographically.\n",
       "east - Eastern bound of a geographic envelope used to constrain results\n",
       "    geographically.\n",
       "south - Southern bound of a geographic envelope used to constrain results\n",
       "    geographically.\n",
       "west - Western bound of a geographic envelope used to constrain results\n",
       "    geographically.\n",
       "minage - Minimum age of the sample. (Ma)\n",
       "maxage - Maximum age of the sample. (Ma)\n",
       "exactage - Exact age of the sample. (Ma)\n",
       "geologicalage - Geological age of the sample. This is an enumerated value.\n",
       "    Possible values can be found in the EarthChem SOAP search\n",
       "material - Material composition of the sample. This is an enumerated value.\n",
       "    Possible values can be found in the EarthChem SOAP search\n",
       "searchtype - Desired type of search query. Possible values are \"count\",\n",
       "    \"rowdata\", and \"distinctitems\"\n",
       "outputtype - Desired output type from query. Possible values are \"html\", \"csv\",\n",
       "    \"xml\", \"json\", \"jsonp\" and \"staticmap\".\n",
       "jsonfunction - Desired Javascript function to be wrapped around JSON in the\n",
       "    event that \"outputtype\" is set to \"jsonp\"\n",
       "outputlevel - Desired level of output from query. Possible values are \"sample\"\n",
       "    and \"method\".\n",
       "startrow/endrow - These values determine which rows of query will be displayed.\n",
       "    The first row is always 0 and the last row is always the count value minus 1\n",
       "    (n-1).\n",
       "standarditems - This element has a value of yes/no and determines if the\n",
       "    standard chemical values should be displayed in the html,csv, or xml\n",
       "    outputs. Using the standard items allows a consistent output from query to\n",
       "    query for use in tables.\n",
       "outputitems - Comma-separated list of items to be displayed. Items will be shown\n",
       "    in html,csv, and xml output in order provided in the GET variable. This is\n",
       "    an enumerated value. Possible values can be found in the EarthChem SOAP\n",
       "    search\n",
       "showcolumnnames - Control display of column names in CSV and HTML output modes.\n",
       "    Possible values are yes and no. Default value is no.\n"
      ]
     },
     "metadata": {},
     "output_type": "display_data"
    }
   ],
   "source": [
    "q?"
   ]
  },
  {
   "cell_type": "code",
   "execution_count": null,
   "metadata": {},
   "outputs": [],
   "source": []
  }
 ],
 "metadata": {
  "kernelspec": {
   "display_name": "Python 3",
   "language": "python",
   "name": "python3"
  },
  "language_info": {
   "codemirror_mode": {
    "name": "ipython",
    "version": 3
   },
   "file_extension": ".py",
   "mimetype": "text/x-python",
   "name": "python",
   "nbconvert_exporter": "python",
   "pygments_lexer": "ipython3",
   "version": "3.6.5"
  }
 },
 "nbformat": 4,
 "nbformat_minor": 2
}
