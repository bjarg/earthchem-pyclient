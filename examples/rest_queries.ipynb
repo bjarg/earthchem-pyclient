{
 "cells": [
  {
   "cell_type": "code",
   "execution_count": 1,
   "metadata": {},
   "outputs": [
    {
     "data": {
      "text/plain": [
       "'0.0.3+1.gbab5996'"
      ]
     },
     "execution_count": 1,
     "metadata": {},
     "output_type": "execute_result"
    }
   ],
   "source": [
    "import earthchem\n",
    "earthchem.__version__"
   ]
  },
  {
   "cell_type": "markdown",
   "metadata": {},
   "source": [
    "Make a rest client"
   ]
  },
  {
   "cell_type": "code",
   "execution_count": 2,
   "metadata": {},
   "outputs": [
    {
     "data": {
      "text/plain": [
       "'http://ecp.iedadata.org/restsearchservice?outputtype=json&author=klump'"
      ]
     },
     "execution_count": 2,
     "metadata": {},
     "output_type": "execute_result"
    }
   ],
   "source": [
    "q = earthchem.Query(author='klump')\n",
    "q.url"
   ]
  },
  {
   "cell_type": "markdown",
   "metadata": {},
   "source": [
    "How many records have we found?"
   ]
  },
  {
   "cell_type": "code",
   "execution_count": 3,
   "metadata": {},
   "outputs": [
    {
     "data": {
      "text/plain": [
       "0"
      ]
     },
     "execution_count": 3,
     "metadata": {},
     "output_type": "execute_result"
    }
   ],
   "source": [
    "q.count()"
   ]
  },
  {
   "cell_type": "code",
   "execution_count": 4,
   "metadata": {},
   "outputs": [
    {
     "name": "stdout",
     "output_type": "stream",
     "text": [
      "Didn't find any records, returning None\n"
     ]
    }
   ],
   "source": [
    "q.dataframe()"
   ]
  },
  {
   "cell_type": "markdown",
   "metadata": {},
   "source": [
    "Let's try another author"
   ]
  },
  {
   "cell_type": "code",
   "execution_count": 5,
   "metadata": {},
   "outputs": [
    {
     "data": {
      "text/plain": [
       "4902"
      ]
     },
     "execution_count": 5,
     "metadata": {},
     "output_type": "execute_result"
    }
   ],
   "source": [
    "q = earthchem.Query(author='barnes')\n",
    "q.count()"
   ]
  },
  {
   "cell_type": "markdown",
   "metadata": {},
   "source": [
    "Get the first 50 records"
   ]
  },
  {
   "cell_type": "code",
   "execution_count": 6,
   "metadata": {},
   "outputs": [
    {
     "data": {
      "text/html": [
       "<div>\n",
       "<style scoped>\n",
       "    .dataframe tbody tr th:only-of-type {\n",
       "        vertical-align: middle;\n",
       "    }\n",
       "\n",
       "    .dataframe tbody tr th {\n",
       "        vertical-align: top;\n",
       "    }\n",
       "\n",
       "    .dataframe thead th {\n",
       "        text-align: right;\n",
       "    }\n",
       "</style>\n",
       "<table border=\"1\" class=\"dataframe\">\n",
       "  <thead>\n",
       "    <tr style=\"text-align: right;\">\n",
       "      <th></th>\n",
       "      <th>al2o3</th>\n",
       "      <th>author</th>\n",
       "      <th>cao</th>\n",
       "      <th>cl</th>\n",
       "      <th>composition</th>\n",
       "      <th>feot</th>\n",
       "      <th>journal</th>\n",
       "      <th>k</th>\n",
       "      <th>k2o</th>\n",
       "      <th>latitude</th>\n",
       "      <th>...</th>\n",
       "      <th>mno</th>\n",
       "      <th>na2o</th>\n",
       "      <th>p2o5</th>\n",
       "      <th>rock_name</th>\n",
       "      <th>sample_id</th>\n",
       "      <th>sio2</th>\n",
       "      <th>source</th>\n",
       "      <th>tio2</th>\n",
       "      <th>title</th>\n",
       "      <th>type</th>\n",
       "    </tr>\n",
       "  </thead>\n",
       "  <tbody>\n",
       "    <tr>\n",
       "      <th>0</th>\n",
       "      <td>NaN</td>\n",
       "      <td>BARNES, J. D.; STRAUB, S. M.</td>\n",
       "      <td>NaN</td>\n",
       "      <td>647.0</td>\n",
       "      <td>unknown</td>\n",
       "      <td>NaN</td>\n",
       "      <td>CHEM. GEOL.</td>\n",
       "      <td>NaN</td>\n",
       "      <td>NaN</td>\n",
       "      <td>18.0448</td>\n",
       "      <td>...</td>\n",
       "      <td>NaN</td>\n",
       "      <td>NaN</td>\n",
       "      <td>NaN</td>\n",
       "      <td>not-given</td>\n",
       "      <td>64DS</td>\n",
       "      <td>NaN</td>\n",
       "      <td>GEOROC</td>\n",
       "      <td>NaN</td>\n",
       "      <td>CHLORINE STABLE ISOTOPE VARIATIONS IN IZU BONI...</td>\n",
       "      <td>volcanic</td>\n",
       "    </tr>\n",
       "    <tr>\n",
       "      <th>1</th>\n",
       "      <td>13.3</td>\n",
       "      <td>BARNES, J. D.; STRAUB, S. M.</td>\n",
       "      <td>9.37</td>\n",
       "      <td>560.0</td>\n",
       "      <td>unknown</td>\n",
       "      <td>12.63</td>\n",
       "      <td>CHEM. GEOL.</td>\n",
       "      <td>NaN</td>\n",
       "      <td>0.30</td>\n",
       "      <td>30.8610</td>\n",
       "      <td>...</td>\n",
       "      <td>0.31</td>\n",
       "      <td>2.20</td>\n",
       "      <td>0.10</td>\n",
       "      <td>not-given</td>\n",
       "      <td>125-782A-29X3-42-46</td>\n",
       "      <td>48.47</td>\n",
       "      <td>GEOROC</td>\n",
       "      <td>1.02</td>\n",
       "      <td>CHLORINE STABLE ISOTOPE VARIATIONS IN IZU BONI...</td>\n",
       "      <td>volcanic</td>\n",
       "    </tr>\n",
       "    <tr>\n",
       "      <th>2</th>\n",
       "      <td>14.2</td>\n",
       "      <td>BARNES, J. D.; STRAUB, S. M.</td>\n",
       "      <td>8.84</td>\n",
       "      <td>960.0</td>\n",
       "      <td>unknown</td>\n",
       "      <td>10.78</td>\n",
       "      <td>CHEM. GEOL.</td>\n",
       "      <td>NaN</td>\n",
       "      <td>0.33</td>\n",
       "      <td>30.8610</td>\n",
       "      <td>...</td>\n",
       "      <td>0.38</td>\n",
       "      <td>2.60</td>\n",
       "      <td>0.10</td>\n",
       "      <td>not-given</td>\n",
       "      <td>125-782A-29X3-42-46</td>\n",
       "      <td>52.00</td>\n",
       "      <td>GEOROC</td>\n",
       "      <td>0.86</td>\n",
       "      <td>CHLORINE STABLE ISOTOPE VARIATIONS IN IZU BONI...</td>\n",
       "      <td>volcanic</td>\n",
       "    </tr>\n",
       "    <tr>\n",
       "      <th>3</th>\n",
       "      <td>13.6</td>\n",
       "      <td>BARNES, J. D.; STRAUB, S. M.</td>\n",
       "      <td>9.30</td>\n",
       "      <td>1170.0</td>\n",
       "      <td>unknown</td>\n",
       "      <td>12.43</td>\n",
       "      <td>CHEM. GEOL.</td>\n",
       "      <td>NaN</td>\n",
       "      <td>0.26</td>\n",
       "      <td>30.8610</td>\n",
       "      <td>...</td>\n",
       "      <td>0.22</td>\n",
       "      <td>2.27</td>\n",
       "      <td>0.11</td>\n",
       "      <td>not-given</td>\n",
       "      <td>125-782A-29X3-42-46</td>\n",
       "      <td>49.72</td>\n",
       "      <td>GEOROC</td>\n",
       "      <td>0.98</td>\n",
       "      <td>CHLORINE STABLE ISOTOPE VARIATIONS IN IZU BONI...</td>\n",
       "      <td>volcanic</td>\n",
       "    </tr>\n",
       "    <tr>\n",
       "      <th>4</th>\n",
       "      <td>14.3</td>\n",
       "      <td>BARNES, J. D.; STRAUB, S. M.</td>\n",
       "      <td>6.39</td>\n",
       "      <td>1870.0</td>\n",
       "      <td>unknown</td>\n",
       "      <td>8.02</td>\n",
       "      <td>CHEM. GEOL.</td>\n",
       "      <td>NaN</td>\n",
       "      <td>0.64</td>\n",
       "      <td>30.8610</td>\n",
       "      <td>...</td>\n",
       "      <td>0.22</td>\n",
       "      <td>3.77</td>\n",
       "      <td>0.15</td>\n",
       "      <td>not-given</td>\n",
       "      <td>125-782A-29X3-42-46</td>\n",
       "      <td>57.82</td>\n",
       "      <td>GEOROC</td>\n",
       "      <td>0.83</td>\n",
       "      <td>CHLORINE STABLE ISOTOPE VARIATIONS IN IZU BONI...</td>\n",
       "      <td>volcanic</td>\n",
       "    </tr>\n",
       "  </tbody>\n",
       "</table>\n",
       "<p>5 rows × 24 columns</p>\n",
       "</div>"
      ],
      "text/plain": [
       "   al2o3                        author   cao      cl composition   feot  \\\n",
       "0    NaN  BARNES, J. D.; STRAUB, S. M.   NaN   647.0     unknown    NaN   \n",
       "1   13.3  BARNES, J. D.; STRAUB, S. M.  9.37   560.0     unknown  12.63   \n",
       "2   14.2  BARNES, J. D.; STRAUB, S. M.  8.84   960.0     unknown  10.78   \n",
       "3   13.6  BARNES, J. D.; STRAUB, S. M.  9.30  1170.0     unknown  12.43   \n",
       "4   14.3  BARNES, J. D.; STRAUB, S. M.  6.39  1870.0     unknown   8.02   \n",
       "\n",
       "       journal   k   k2o  latitude    ...      mno  na2o  p2o5  rock_name  \\\n",
       "0  CHEM. GEOL. NaN   NaN   18.0448    ...      NaN   NaN   NaN  not-given   \n",
       "1  CHEM. GEOL. NaN  0.30   30.8610    ...     0.31  2.20  0.10  not-given   \n",
       "2  CHEM. GEOL. NaN  0.33   30.8610    ...     0.38  2.60  0.10  not-given   \n",
       "3  CHEM. GEOL. NaN  0.26   30.8610    ...     0.22  2.27  0.11  not-given   \n",
       "4  CHEM. GEOL. NaN  0.64   30.8610    ...     0.22  3.77  0.15  not-given   \n",
       "\n",
       "             sample_id   sio2  source  tio2  \\\n",
       "0                 64DS    NaN  GEOROC   NaN   \n",
       "1  125-782A-29X3-42-46  48.47  GEOROC  1.02   \n",
       "2  125-782A-29X3-42-46  52.00  GEOROC  0.86   \n",
       "3  125-782A-29X3-42-46  49.72  GEOROC  0.98   \n",
       "4  125-782A-29X3-42-46  57.82  GEOROC  0.83   \n",
       "\n",
       "                                               title      type  \n",
       "0  CHLORINE STABLE ISOTOPE VARIATIONS IN IZU BONI...  volcanic  \n",
       "1  CHLORINE STABLE ISOTOPE VARIATIONS IN IZU BONI...  volcanic  \n",
       "2  CHLORINE STABLE ISOTOPE VARIATIONS IN IZU BONI...  volcanic  \n",
       "3  CHLORINE STABLE ISOTOPE VARIATIONS IN IZU BONI...  volcanic  \n",
       "4  CHLORINE STABLE ISOTOPE VARIATIONS IN IZU BONI...  volcanic  \n",
       "\n",
       "[5 rows x 24 columns]"
      ]
     },
     "execution_count": 6,
     "metadata": {},
     "output_type": "execute_result"
    }
   ],
   "source": [
    "df = q.dataframe()\n",
    "df.head()"
   ]
  },
  {
   "cell_type": "markdown",
   "metadata": {},
   "source": [
    "Lets try and paginate this instead"
   ]
  },
  {
   "cell_type": "code",
   "execution_count": 8,
   "metadata": {},
   "outputs": [],
   "source": [
    "q['searchtype'] = 'rowdata'\n",
    "q['standarditems'] = 'yes'"
   ]
  },
  {
   "cell_type": "code",
   "execution_count": 11,
   "metadata": {},
   "outputs": [
    {
     "data": {
      "text/plain": [
       "4902"
      ]
     },
     "execution_count": 11,
     "metadata": {},
     "output_type": "execute_result"
    }
   ],
   "source": [
    "q.count()"
   ]
  },
  {
   "cell_type": "code",
   "execution_count": 18,
   "metadata": {},
   "outputs": [],
   "source": [
    "items_per_page = 50\n",
    "max_items = q.count()"
   ]
  },
  {
   "cell_type": "code",
   "execution_count": 1,
   "metadata": {},
   "outputs": [],
   "source": [
    "import earthchem\n",
    "from earthchem.pagination import make_pages"
   ]
  },
  {
   "cell_type": "code",
   "execution_count": 5,
   "metadata": {},
   "outputs": [],
   "source": [
    "import tqdm\n",
    "import requests\n",
    "import pandas\n",
    "\n",
    "from io import StringIO"
   ]
  },
  {
   "cell_type": "code",
   "execution_count": 6,
   "metadata": {},
   "outputs": [],
   "source": [
    "self = earthchem.Query(author='barnes')\n",
    "max_items = 124"
   ]
  },
  {
   "cell_type": "code",
   "execution_count": 7,
   "metadata": {},
   "outputs": [
    {
     "name": "stderr",
     "output_type": "stream",
     "text": [
      "Downloading pages: 100%|██████████| 3/3 [00:04<00:00,  1.54s/it]\n"
     ]
    }
   ],
   "source": [
    "\n",
    "# Get the list of pages we're going to use, use to set up tqdm and query\n",
    "pages = make_pages(max_items or self.count())[:4]\n",
    "tqdm_kwargs = {\n",
    "    'desc': 'Downloading pages',\n",
    "    'total': len(pages)\n",
    "}\n",
    "\n",
    "# Set basic search params\n",
    "self['searchtype'] = 'rowdata'\n",
    "self['standarditems'] = 'yes'\n",
    "\n",
    "# Accumulate pages as we go\n",
    "accumulator = None\n",
    "for page in tqdm.tqdm(pages, **tqdm_kwargs):\n",
    "    self['startrow'], self['endrow'] = page\n",
    "    resp = requests.get(self.url)\n",
    "    if resp.ok:\n",
    "        # Create a new dataframe to add to the old one\n",
    "        df = pandas.read_json(StringIO(resp.text))\n",
    "        if accumulator is None:\n",
    "            accumulator = df\n",
    "        else:\n",
    "            accumulator = pandas.concat([accumulator, df])"
   ]
  },
  {
   "cell_type": "code",
   "execution_count": 10,
   "metadata": {},
   "outputs": [
    {
     "data": {
      "text/plain": [
       "125"
      ]
     },
     "execution_count": 10,
     "metadata": {},
     "output_type": "execute_result"
    }
   ],
   "source": [
    "len(accumulator)"
   ]
  },
  {
   "cell_type": "markdown",
   "metadata": {},
   "source": [
    "Now we can generate a plot of this data"
   ]
  },
  {
   "cell_type": "code",
   "execution_count": null,
   "metadata": {},
   "outputs": [],
   "source": [
    "%matplotlib inline\n",
    "\n",
    "df.plot('longitude', 'latitude', 'scatter')"
   ]
  },
  {
   "cell_type": "code",
   "execution_count": null,
   "metadata": {},
   "outputs": [],
   "source": [
    "df.plot('al2o3', 'mgo', 'scatter')"
   ]
  },
  {
   "cell_type": "code",
   "execution_count": null,
   "metadata": {},
   "outputs": [],
   "source": []
  }
 ],
 "metadata": {
  "kernelspec": {
   "display_name": "Python [default]",
   "language": "python",
   "name": "python3"
  },
  "language_info": {
   "codemirror_mode": {
    "name": "ipython",
    "version": 3
   },
   "file_extension": ".py",
   "mimetype": "text/x-python",
   "name": "python",
   "nbconvert_exporter": "python",
   "pygments_lexer": "ipython3",
   "version": "3.6.3"
  }
 },
 "nbformat": 4,
 "nbformat_minor": 2
}
