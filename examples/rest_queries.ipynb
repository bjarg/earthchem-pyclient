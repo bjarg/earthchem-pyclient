{
 "cells": [
  {
   "cell_type": "code",
   "execution_count": null,
   "metadata": {},
   "outputs": [],
   "source": [
    "import earthchem\n",
    "earthchem.__version__"
   ]
  },
  {
   "cell_type": "markdown",
   "metadata": {},
   "source": [
    "Make a rest client"
   ]
  },
  {
   "cell_type": "code",
   "execution_count": null,
   "metadata": {},
   "outputs": [],
   "source": [
    "from earthchem.query import RESTClientQuery\n",
    "\n",
    "q = RESTClientQuery(author='klump')\n",
    "q.url"
   ]
  },
  {
   "cell_type": "markdown",
   "metadata": {},
   "source": [
    "How many records have we found?"
   ]
  },
  {
   "cell_type": "code",
   "execution_count": null,
   "metadata": {},
   "outputs": [],
   "source": [
    "q.count()"
   ]
  },
  {
   "cell_type": "code",
   "execution_count": null,
   "metadata": {},
   "outputs": [],
   "source": [
    "q.dataframe()"
   ]
  },
  {
   "cell_type": "markdown",
   "metadata": {},
   "source": [
    "Let's try another author"
   ]
  },
  {
   "cell_type": "code",
   "execution_count": null,
   "metadata": {},
   "outputs": [],
   "source": [
    "q = RESTClientQuery(author='barnes')\n",
    "q.count()"
   ]
  },
  {
   "cell_type": "markdown",
   "metadata": {},
   "source": [
    "Get the first 50 records"
   ]
  },
  {
   "cell_type": "code",
   "execution_count": null,
   "metadata": {},
   "outputs": [],
   "source": [
    "df = q.dataframe()\n",
    "df.head()"
   ]
  },
  {
   "cell_type": "markdown",
   "metadata": {},
   "source": [
    "Now we can generate a plot of this data"
   ]
  },
  {
   "cell_type": "code",
   "execution_count": null,
   "metadata": {},
   "outputs": [],
   "source": [
    "%matplotlib inline\n",
    "\n",
    "df.plot('longitude', 'latitude', 'scatter')"
   ]
  },
  {
   "cell_type": "code",
   "execution_count": null,
   "metadata": {},
   "outputs": [],
   "source": [
    "import pandas\n",
    "from matplotlib import pyplot as plt"
   ]
  },
  {
   "cell_type": "code",
   "execution_count": null,
   "metadata": {},
   "outputs": [],
   "source": [
    "df.al2o3 = pandas.to_numeric(df.al2o3)\n",
    "df.sio2 = pandas.to_numeric(df.sio2)"
   ]
  },
  {
   "cell_type": "code",
   "execution_count": null,
   "metadata": {},
   "outputs": [],
   "source": [
    "plt.scatter(df.al2o3, df.sio2)"
   ]
  },
  {
   "cell_type": "markdown",
   "metadata": {},
   "source": [
    "### Schema validation against examples"
   ]
  },
  {
   "cell_type": "code",
   "execution_count": null,
   "metadata": {},
   "outputs": [],
   "source": [
    "import os\n",
    "from lxml import etree, objectify\n",
    "from lxml.etree import XMLSyntaxError\n",
    "\n",
    "SOAP_SCHEMA = os.path.abspath('../earthchem/resources/soap_search_schema.xsd')\n",
    "TYPE_MAPPING = {\n",
    "    '{{{}}}complexType'.format(self.ns['xs']): 'complex',\n",
    "    '{{{}}}simpleType'.format(self.ns['xs']): 'simple',\n",
    "    '{{{}}}string'.format(self.ns['xs']): 'string',\n",
    "    'xs:string': 'string'\n",
    "}\n",
    "\n",
    "def get_type(elem):\n",
    "    \"\"\" Get the data type for an XML element\n",
    "    \"\"\"    \n",
    "    # First check the attributes\n",
    "    attrtype = elem.get('type')\n",
    "    if attrtype is not None:\n",
    "        return TYPE_MAPPING[attrtype]\n",
    "\n",
    "    # Ok so there's probably some children to check then\n",
    "    # If we have children then we can have a complex type or a simple type\n",
    "    # If an xs:complexType we make a dict, if xs:simpleType we expect a string\n",
    "    for child in elem.getchildren():\n",
    "        try:\n",
    "            return TYPE_MAPPING[child.tag]\n",
    "        except KeyError:\n",
    "            continue\n",
    "    \n",
    "    # If we're here we dont' know what to do\n",
    "    raise ValueError(\"Can't parse type for element {}\".format(elem))\n",
    "\n",
    "class QueryElement(dict):\n",
    "    \n",
    "    \"\"\" Class to generate a query element for each \n",
    "        part of the query\n",
    "        \n",
    "        This generates fairly kludgy validators against \n",
    "        the SOAP search schema which will let us check that\n",
    "        a query is well-formed.\n",
    "        \n",
    "        Parameters:\n",
    "            name - the name of the query element.\n",
    "                Should be the same as in the XML soap\n",
    "                search schema.\n",
    "    \"\"\"\n",
    "    \n",
    "    ns = {\"xs\": \"http://www.w3.org/2001/XMLSchema\"}\n",
    "    \n",
    "    def __init__(self, name):\n",
    "        self.name = name.lower()\n",
    "        self.xmlname = name\n",
    "        \n",
    "        # Storage slots for caching\n",
    "        self._tree = None\n",
    "        \n",
    "        # Find the element for the given name\n",
    "        query = \"//xs:element[@name='{}']\".format(self.xmlname)\n",
    "        self.root = self.xpath(query)[0]\n",
    "        self.dtype = get_type(self.root)\n",
    "        if self.dtype == 'complex':\n",
    "            print('getting valid keys')\n",
    "            print('getting valid values')\n",
    "        elif self.dtype == 'simple':\n",
    "            print('getting valid values')\n",
    "        else:\n",
    "            print('Query is just a string')\n",
    "    \n",
    "    @property\n",
    "    def tree(self):\n",
    "        \"Return the XML tree for the SOAP schema\"\n",
    "        # Return from cache if we already have it\n",
    "        if self._tree is not None:\n",
    "            return self._tree\n",
    "        \n",
    "        # Otherwise just make a new tree\n",
    "        with open(soap_schema, 'r') as src:\n",
    "            self._tree = etree.parse(src)\n",
    "        \n",
    "        return self._tree\n",
    "    \n",
    "    def xpath(self, query):\n",
    "        \"Run an xpath query against our schema\"\n",
    "        return self.tree.xpath(query, namespaces=self.ns)\n",
    "    "
   ]
  },
  {
   "cell_type": "code",
   "execution_count": null,
   "metadata": {},
   "outputs": [],
   "source": []
  },
  {
   "cell_type": "code",
   "execution_count": null,
   "metadata": {},
   "outputs": [],
   "source": [
    "self = QueryElement('Reference')"
   ]
  },
  {
   "cell_type": "code",
   "execution_count": null,
   "metadata": {},
   "outputs": [],
   "source": [
    "type_mapping"
   ]
  },
  {
   "cell_type": "code",
   "execution_count": null,
   "metadata": {},
   "outputs": [],
   "source": [
    "get_type(self.root)"
   ]
  },
  {
   "cell_type": "code",
   "execution_count": null,
   "metadata": {},
   "outputs": [],
   "source": [
    "def complex_validator(elem):\n",
    "    \"\"\" Construct a validator for an xs:complexType\n",
    "    \"\"\"\n",
    "    # Pull together keys and validators for each key\n",
    "    validators = {}\n",
    "    for attr in elem.xpath('./xs:complexType/xs:attribute', namespaces=self.ns):\n",
    "        # Decide what type of validator we need based on attribute type\n",
    "        attrtype = get_type(attr)\n",
    "        if attrtype == 'string':\n",
    "            # We accept anything for strings\n",
    "            validators[name] = string_validator(attr)\n",
    "            \n",
    "        elif attrtype == 'simple':\n",
    "            # For simple types there's a restriction on values\n",
    "            print('constructing simple validator')\n",
    "            validators[attr.get('name')] = construct_simple_validator(attr)\n",
    "            \n",
    "        elif attrtype == 'complex':\n",
    "            validators[attr.get('name')] = construct_complex_validator(attr)\n",
    "        \n",
    "    # Construct a validator function\n",
    "    name = elem.get('name')\n",
    "    def _validator(obj):\n",
    "        if type(obj) != dict:\n",
    "            raise ValueError('I expected a dict for parameter {} - got a {} instead ({})'.format(name, type(obj), obj))\n",
    "        \n",
    "        # Check keys and values against schema\n",
    "        for key, value in obj.items():\n",
    "            try:\n",
    "                if not validators\n",
    "    \n",
    "    return _validator\n",
    "\n",
    "def simple_validator(elem):\n",
    "    \"\"\" Construct a validator for an xs:simpleType - these are normally values\n",
    "        with particular restrictions\n",
    "    \"\"\"\n",
    "    # Construct a validator that checks values against known ok values\n",
    "    name = elem.get('name')\n",
    "    def _validator(obj):\n",
    "        if type(obj) != dict:\n",
    "            raise ValueError('I expected a str for parameter {} - got a {} instead ({})'.format(name, type(obj), obj))\n",
    "\n",
    "    # Return the validation function\n",
    "    return _validator\n",
    "\n",
    "def string_validator(elem):\n",
    "    \"\"\" String validator for objects - validates any string it's passed\n",
    "    \"\"\"\n",
    "    # Construct a validator that just checks that we have a string\n",
    "    name = elem.get('name')\n",
    "    def _validator(obj):\n",
    "        if type(obj) != str:\n",
    "            raise ValueError('I expected a string for parameter {} - got a {} instead ({})'.format(elem, type(obj), obj))\n",
    "        return True\n",
    "    \n",
    "    # Return the validation function\n",
    "    return _validator\n",
    "\n",
    "validator_mapping = {\n",
    "    'string': string_validator,\n",
    "    'complex': complex_validator,\n",
    "    'simple': simple_validator\n",
    "}\n",
    "\n",
    "def validate(dict_like, validators):\n",
    "    for key, value in dict_like.items():\n",
    "        try:\n",
    "            if not validators[key](value):\n",
    "                raise ValueError\n",
    "        except KeyError:\n",
    "            print('Invalid key {}, valid keys are {}'.format(key, validators.keys()))\n",
    "        print(validators[key](value))"
   ]
  },
  {
   "cell_type": "code",
   "execution_count": null,
   "metadata": {},
   "outputs": [],
   "source": [
    "validators = construct_complex_validator(self.root)"
   ]
  },
  {
   "cell_type": "code",
   "execution_count": null,
   "metadata": {},
   "outputs": [],
   "source": [
    "validators.keys()"
   ]
  },
  {
   "cell_type": "code",
   "execution_count": null,
   "metadata": {},
   "outputs": [],
   "source": [
    "validate({'author': 'Barnes', 'title': 'foo', 'doi': ['http://dx.doi.org/asdfho.sdfl']}, validators)"
   ]
  },
  {
   "cell_type": "code",
   "execution_count": null,
   "metadata": {},
   "outputs": [],
   "source": [
    "a = ['foo']\n",
    "type(a)"
   ]
  },
  {
   "cell_type": "code",
   "execution_count": null,
   "metadata": {},
   "outputs": [],
   "source": [
    "a = 'foo'\n",
    "type(a)"
   ]
  },
  {
   "cell_type": "code",
   "execution_count": null,
   "metadata": {},
   "outputs": [],
   "source": []
  }
 ],
 "metadata": {
  "kernelspec": {
   "display_name": "Python [default]",
   "language": "python",
   "name": "python3"
  },
  "language_info": {
   "codemirror_mode": {
    "name": "ipython",
    "version": 3
   },
   "file_extension": ".py",
   "mimetype": "text/x-python",
   "name": "python",
   "nbconvert_exporter": "python",
   "pygments_lexer": "ipython3",
   "version": "3.6.3"
  }
 },
 "nbformat": 4,
 "nbformat_minor": 2
}
