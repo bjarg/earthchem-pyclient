{
 "cells": [
  {
   "cell_type": "code",
   "execution_count": 1,
   "metadata": {},
   "outputs": [],
   "source": [
    "# Earthchem examples"
   ]
  },
  {
   "cell_type": "code",
   "execution_count": 20,
   "metadata": {},
   "outputs": [],
   "source": [
    "from requests import get\n",
    "import pandas as pd\n",
    "import geopandas as gpd\n",
    "\n",
    "from owslib.wfs import WebFeatureService"
   ]
  },
  {
   "cell_type": "code",
   "execution_count": 41,
   "metadata": {},
   "outputs": [],
   "source": [
    "EARTHCHEM_WFS_URL = \"http://ecp.iedadata.org/wfs/ows\"\n",
    "EARTHCHEM_REST_URL = \"http://ecp.iedadata.org/restsearchservice\""
   ]
  },
  {
   "cell_type": "code",
   "execution_count": 42,
   "metadata": {},
   "outputs": [
    {
     "name": "stderr",
     "output_type": "stream",
     "text": [
      "/home/rob65g/.local/conda/envs/earthchem/lib/python3.6/site-packages/owslib/util.py:541: FutureWarning: The behavior of this method will change in future versions. Use specific 'len(elem)' or 'elem is not None' test instead.\n",
      "  if elements:\n"
     ]
    }
   ],
   "source": [
    "params = dict(\n",
    "    service=\"wfs\",\n",
    "    version=\"1.0.0\",\n",
    "    request=\"GetCapabilities\",\n",
    "    outputFormat='json'\n",
    ")\n",
    "\n",
    "wfs = WebFeatureService(EARTHCHEM_WFS_URL, version='1.0.0')"
   ]
  },
  {
   "cell_type": "code",
   "execution_count": 43,
   "metadata": {},
   "outputs": [
    {
     "data": {
      "text/plain": [
       "<owslib.util.ResponseWrapper at 0x7fec345ee240>"
      ]
     },
     "execution_count": 43,
     "metadata": {},
     "output_type": "execute_result"
    }
   ],
   "source": [
    "wfs.getcapabilities()"
   ]
  },
  {
   "cell_type": "code",
   "execution_count": 44,
   "metadata": {},
   "outputs": [
    {
     "ename": "ServiceException",
     "evalue": "Could not find type name E",
     "output_type": "error",
     "traceback": [
      "\u001b[0;31m---------------------------------------------------------------------------\u001b[0m",
      "\u001b[0;31mServiceException\u001b[0m                          Traceback (most recent call last)",
      "\u001b[0;32m<ipython-input-44-fb3f616f4553>\u001b[0m in \u001b[0;36m<module>\u001b[0;34m()\u001b[0m\n\u001b[0;32m----> 1\u001b[0;31m \u001b[0mwfs\u001b[0m\u001b[0;34m.\u001b[0m\u001b[0mgetfeature\u001b[0m\u001b[0;34m(\u001b[0m\u001b[0;34m'EarthChem:EarthChemSamples'\u001b[0m\u001b[0;34m)\u001b[0m\u001b[0;34m\u001b[0m\u001b[0m\n\u001b[0m",
      "\u001b[0;32m~/.local/conda/envs/earthchem/lib/python3.6/site-packages/owslib/feature/wfs100.py\u001b[0m in \u001b[0;36mgetfeature\u001b[0;34m(self, typename, filter, bbox, featureid, featureversion, propertyname, maxfeatures, srsname, outputFormat, method, startindex)\u001b[0m\n\u001b[1;32m    260\u001b[0m                 \u001b[0;32mif\u001b[0m \u001b[0mtree\u001b[0m\u001b[0;34m.\u001b[0m\u001b[0mtag\u001b[0m \u001b[0;34m==\u001b[0m \u001b[0;34m\"{%s}ServiceExceptionReport\"\u001b[0m \u001b[0;34m%\u001b[0m \u001b[0mOGC_NAMESPACE\u001b[0m\u001b[0;34m:\u001b[0m\u001b[0;34m\u001b[0m\u001b[0m\n\u001b[1;32m    261\u001b[0m                     \u001b[0mse\u001b[0m \u001b[0;34m=\u001b[0m \u001b[0mtree\u001b[0m\u001b[0;34m.\u001b[0m\u001b[0mfind\u001b[0m\u001b[0;34m(\u001b[0m\u001b[0mnspath\u001b[0m\u001b[0;34m(\u001b[0m\u001b[0;34m'ServiceException'\u001b[0m\u001b[0;34m,\u001b[0m \u001b[0mOGC_NAMESPACE\u001b[0m\u001b[0;34m)\u001b[0m\u001b[0;34m)\u001b[0m\u001b[0;34m\u001b[0m\u001b[0m\n\u001b[0;32m--> 262\u001b[0;31m                     \u001b[0;32mraise\u001b[0m \u001b[0mServiceException\u001b[0m\u001b[0;34m(\u001b[0m\u001b[0mstr\u001b[0m\u001b[0;34m(\u001b[0m\u001b[0mse\u001b[0m\u001b[0;34m.\u001b[0m\u001b[0mtext\u001b[0m\u001b[0;34m)\u001b[0m\u001b[0;34m.\u001b[0m\u001b[0mstrip\u001b[0m\u001b[0;34m(\u001b[0m\u001b[0;34m)\u001b[0m\u001b[0;34m)\u001b[0m\u001b[0;34m\u001b[0m\u001b[0m\n\u001b[0m\u001b[1;32m    263\u001b[0m                 \u001b[0;32melse\u001b[0m\u001b[0;34m:\u001b[0m\u001b[0;34m\u001b[0m\u001b[0m\n\u001b[1;32m    264\u001b[0m                     \u001b[0;32mreturn\u001b[0m \u001b[0mself\u001b[0m\u001b[0;34m.\u001b[0m\u001b[0m_makeStringIO\u001b[0m\u001b[0;34m(\u001b[0m\u001b[0mdata\u001b[0m\u001b[0;34m)\u001b[0m\u001b[0;34m\u001b[0m\u001b[0m\n",
      "\u001b[0;31mServiceException\u001b[0m: Could not find type name E"
     ]
    }
   ],
   "source": [
    "wfs.getfeature('EarthChem:EarthChemSamples')"
   ]
  },
  {
   "cell_type": "code",
   "execution_count": null,
   "metadata": {},
   "outputs": [],
   "source": [
    "capabilities = wfs.getcapabilities()"
   ]
  },
  {
   "cell_type": "code",
   "execution_count": null,
   "metadata": {},
   "outputs": [],
   "source": [
    "[o.name for o in wfs.operations]"
   ]
  },
  {
   "cell_type": "code",
   "execution_count": 104,
   "metadata": {},
   "outputs": [],
   "source": [
    "parameters = dict(\n",
    "    author=\"smi*\",\n",
    "    searchtype=\"rowdata\",\n",
    "    outputtype=\"json\",\n",
    "    showcolumnnames=\"yes\",\n",
    "    outputitems=\"sample_id,source,longitude,latitude\"\n",
    ")"
   ]
  },
  {
   "cell_type": "code",
   "execution_count": 105,
   "metadata": {},
   "outputs": [
    {
     "ename": "JSONDecodeError",
     "evalue": "Expecting value: line 1 column 1 (char 0)",
     "output_type": "error",
     "traceback": [
      "\u001b[0;31m---------------------------------------------------------------------------\u001b[0m",
      "\u001b[0;31mJSONDecodeError\u001b[0m                           Traceback (most recent call last)",
      "\u001b[0;32m<ipython-input-105-488158d210e9>\u001b[0m in \u001b[0;36m<module>\u001b[0;34m()\u001b[0m\n\u001b[0;32m----> 1\u001b[0;31m \u001b[0mresult\u001b[0m \u001b[0;34m=\u001b[0m \u001b[0mget\u001b[0m\u001b[0;34m(\u001b[0m\u001b[0mEARTHCHEM_REST_URL\u001b[0m\u001b[0;34m,\u001b[0m \u001b[0mparameters\u001b[0m\u001b[0;34m)\u001b[0m\u001b[0;34m.\u001b[0m\u001b[0mjson\u001b[0m\u001b[0;34m(\u001b[0m\u001b[0;34m)\u001b[0m\u001b[0;34m\u001b[0m\u001b[0m\n\u001b[0m",
      "\u001b[0;32m~/.local/conda/envs/earthchem/lib/python3.6/site-packages/requests/models.py\u001b[0m in \u001b[0;36mjson\u001b[0;34m(self, **kwargs)\u001b[0m\n\u001b[1;32m    890\u001b[0m                     \u001b[0;31m# used.\u001b[0m\u001b[0;34m\u001b[0m\u001b[0;34m\u001b[0m\u001b[0m\n\u001b[1;32m    891\u001b[0m                     \u001b[0;32mpass\u001b[0m\u001b[0;34m\u001b[0m\u001b[0m\n\u001b[0;32m--> 892\u001b[0;31m         \u001b[0;32mreturn\u001b[0m \u001b[0mcomplexjson\u001b[0m\u001b[0;34m.\u001b[0m\u001b[0mloads\u001b[0m\u001b[0;34m(\u001b[0m\u001b[0mself\u001b[0m\u001b[0;34m.\u001b[0m\u001b[0mtext\u001b[0m\u001b[0;34m,\u001b[0m \u001b[0;34m**\u001b[0m\u001b[0mkwargs\u001b[0m\u001b[0;34m)\u001b[0m\u001b[0;34m\u001b[0m\u001b[0m\n\u001b[0m\u001b[1;32m    893\u001b[0m \u001b[0;34m\u001b[0m\u001b[0m\n\u001b[1;32m    894\u001b[0m     \u001b[0;34m@\u001b[0m\u001b[0mproperty\u001b[0m\u001b[0;34m\u001b[0m\u001b[0m\n",
      "\u001b[0;32m~/.local/conda/envs/earthchem/lib/python3.6/json/__init__.py\u001b[0m in \u001b[0;36mloads\u001b[0;34m(s, encoding, cls, object_hook, parse_float, parse_int, parse_constant, object_pairs_hook, **kw)\u001b[0m\n\u001b[1;32m    352\u001b[0m             \u001b[0mparse_int\u001b[0m \u001b[0;32mis\u001b[0m \u001b[0;32mNone\u001b[0m \u001b[0;32mand\u001b[0m \u001b[0mparse_float\u001b[0m \u001b[0;32mis\u001b[0m \u001b[0;32mNone\u001b[0m \u001b[0;32mand\u001b[0m\u001b[0;34m\u001b[0m\u001b[0m\n\u001b[1;32m    353\u001b[0m             parse_constant is None and object_pairs_hook is None and not kw):\n\u001b[0;32m--> 354\u001b[0;31m         \u001b[0;32mreturn\u001b[0m \u001b[0m_default_decoder\u001b[0m\u001b[0;34m.\u001b[0m\u001b[0mdecode\u001b[0m\u001b[0;34m(\u001b[0m\u001b[0ms\u001b[0m\u001b[0;34m)\u001b[0m\u001b[0;34m\u001b[0m\u001b[0m\n\u001b[0m\u001b[1;32m    355\u001b[0m     \u001b[0;32mif\u001b[0m \u001b[0mcls\u001b[0m \u001b[0;32mis\u001b[0m \u001b[0;32mNone\u001b[0m\u001b[0;34m:\u001b[0m\u001b[0;34m\u001b[0m\u001b[0m\n\u001b[1;32m    356\u001b[0m         \u001b[0mcls\u001b[0m \u001b[0;34m=\u001b[0m \u001b[0mJSONDecoder\u001b[0m\u001b[0;34m\u001b[0m\u001b[0m\n",
      "\u001b[0;32m~/.local/conda/envs/earthchem/lib/python3.6/json/decoder.py\u001b[0m in \u001b[0;36mdecode\u001b[0;34m(self, s, _w)\u001b[0m\n\u001b[1;32m    337\u001b[0m \u001b[0;34m\u001b[0m\u001b[0m\n\u001b[1;32m    338\u001b[0m         \"\"\"\n\u001b[0;32m--> 339\u001b[0;31m         \u001b[0mobj\u001b[0m\u001b[0;34m,\u001b[0m \u001b[0mend\u001b[0m \u001b[0;34m=\u001b[0m \u001b[0mself\u001b[0m\u001b[0;34m.\u001b[0m\u001b[0mraw_decode\u001b[0m\u001b[0;34m(\u001b[0m\u001b[0ms\u001b[0m\u001b[0;34m,\u001b[0m \u001b[0midx\u001b[0m\u001b[0;34m=\u001b[0m\u001b[0m_w\u001b[0m\u001b[0;34m(\u001b[0m\u001b[0ms\u001b[0m\u001b[0;34m,\u001b[0m \u001b[0;36m0\u001b[0m\u001b[0;34m)\u001b[0m\u001b[0;34m.\u001b[0m\u001b[0mend\u001b[0m\u001b[0;34m(\u001b[0m\u001b[0;34m)\u001b[0m\u001b[0;34m)\u001b[0m\u001b[0;34m\u001b[0m\u001b[0m\n\u001b[0m\u001b[1;32m    340\u001b[0m         \u001b[0mend\u001b[0m \u001b[0;34m=\u001b[0m \u001b[0m_w\u001b[0m\u001b[0;34m(\u001b[0m\u001b[0ms\u001b[0m\u001b[0;34m,\u001b[0m \u001b[0mend\u001b[0m\u001b[0;34m)\u001b[0m\u001b[0;34m.\u001b[0m\u001b[0mend\u001b[0m\u001b[0;34m(\u001b[0m\u001b[0;34m)\u001b[0m\u001b[0;34m\u001b[0m\u001b[0m\n\u001b[1;32m    341\u001b[0m         \u001b[0;32mif\u001b[0m \u001b[0mend\u001b[0m \u001b[0;34m!=\u001b[0m \u001b[0mlen\u001b[0m\u001b[0;34m(\u001b[0m\u001b[0ms\u001b[0m\u001b[0;34m)\u001b[0m\u001b[0;34m:\u001b[0m\u001b[0;34m\u001b[0m\u001b[0m\n",
      "\u001b[0;32m~/.local/conda/envs/earthchem/lib/python3.6/json/decoder.py\u001b[0m in \u001b[0;36mraw_decode\u001b[0;34m(self, s, idx)\u001b[0m\n\u001b[1;32m    355\u001b[0m             \u001b[0mobj\u001b[0m\u001b[0;34m,\u001b[0m \u001b[0mend\u001b[0m \u001b[0;34m=\u001b[0m \u001b[0mself\u001b[0m\u001b[0;34m.\u001b[0m\u001b[0mscan_once\u001b[0m\u001b[0;34m(\u001b[0m\u001b[0ms\u001b[0m\u001b[0;34m,\u001b[0m \u001b[0midx\u001b[0m\u001b[0;34m)\u001b[0m\u001b[0;34m\u001b[0m\u001b[0m\n\u001b[1;32m    356\u001b[0m         \u001b[0;32mexcept\u001b[0m \u001b[0mStopIteration\u001b[0m \u001b[0;32mas\u001b[0m \u001b[0merr\u001b[0m\u001b[0;34m:\u001b[0m\u001b[0;34m\u001b[0m\u001b[0m\n\u001b[0;32m--> 357\u001b[0;31m             \u001b[0;32mraise\u001b[0m \u001b[0mJSONDecodeError\u001b[0m\u001b[0;34m(\u001b[0m\u001b[0;34m\"Expecting value\"\u001b[0m\u001b[0;34m,\u001b[0m \u001b[0ms\u001b[0m\u001b[0;34m,\u001b[0m \u001b[0merr\u001b[0m\u001b[0;34m.\u001b[0m\u001b[0mvalue\u001b[0m\u001b[0;34m)\u001b[0m \u001b[0;32mfrom\u001b[0m \u001b[0;32mNone\u001b[0m\u001b[0;34m\u001b[0m\u001b[0m\n\u001b[0m\u001b[1;32m    358\u001b[0m         \u001b[0;32mreturn\u001b[0m \u001b[0mobj\u001b[0m\u001b[0;34m,\u001b[0m \u001b[0mend\u001b[0m\u001b[0;34m\u001b[0m\u001b[0m\n",
      "\u001b[0;31mJSONDecodeError\u001b[0m: Expecting value: line 1 column 1 (char 0)"
     ]
    }
   ],
   "source": [
    "result = get(EARTHCHEM_REST_URL, parameters).json()"
   ]
  },
  {
   "cell_type": "code",
   "execution_count": 106,
   "metadata": {},
   "outputs": [
    {
     "data": {
      "text/plain": [
       "{'Error': 'no search criteria set. please set a search item and try again.'}"
      ]
     },
     "execution_count": 106,
     "metadata": {},
     "output_type": "execute_result"
    }
   ],
   "source": [
    "result"
   ]
  },
  {
   "cell_type": "code",
   "execution_count": 100,
   "metadata": {},
   "outputs": [
    {
     "ename": "TypeError",
     "evalue": "string indices must be integers",
     "output_type": "error",
     "traceback": [
      "\u001b[0;31m---------------------------------------------------------------------------\u001b[0m",
      "\u001b[0;31mTypeError\u001b[0m                                 Traceback (most recent call last)",
      "\u001b[0;32m<ipython-input-100-e2d1a2c886ae>\u001b[0m in \u001b[0;36m<module>\u001b[0;34m()\u001b[0m\n\u001b[1;32m      3\u001b[0m \u001b[0mrecords\u001b[0m \u001b[0;34m=\u001b[0m \u001b[0;34m[\u001b[0m\u001b[0;34m]\u001b[0m\u001b[0;34m\u001b[0m\u001b[0m\n\u001b[1;32m      4\u001b[0m \u001b[0;32mfor\u001b[0m \u001b[0mrecord\u001b[0m \u001b[0;32min\u001b[0m \u001b[0mget\u001b[0m\u001b[0;34m(\u001b[0m\u001b[0mEARTHCHEM_REST_URL\u001b[0m\u001b[0;34m,\u001b[0m \u001b[0mparameters\u001b[0m\u001b[0;34m)\u001b[0m\u001b[0;34m.\u001b[0m\u001b[0mjson\u001b[0m\u001b[0;34m(\u001b[0m\u001b[0;34m)\u001b[0m\u001b[0;34m:\u001b[0m\u001b[0;34m\u001b[0m\u001b[0m\n\u001b[0;32m----> 5\u001b[0;31m     \u001b[0mloc\u001b[0m \u001b[0;34m=\u001b[0m \u001b[0mPoint\u001b[0m\u001b[0;34m(\u001b[0m\u001b[0mfloat\u001b[0m\u001b[0;34m(\u001b[0m\u001b[0mrecord\u001b[0m\u001b[0;34m[\u001b[0m\u001b[0;34m'longitude'\u001b[0m\u001b[0;34m]\u001b[0m\u001b[0;34m)\u001b[0m\u001b[0;34m,\u001b[0m \u001b[0mfloat\u001b[0m\u001b[0;34m(\u001b[0m\u001b[0mrecord\u001b[0m\u001b[0;34m[\u001b[0m\u001b[0;34m'latitude'\u001b[0m\u001b[0;34m]\u001b[0m\u001b[0;34m)\u001b[0m\u001b[0;34m)\u001b[0m\u001b[0;34m\u001b[0m\u001b[0m\n\u001b[0m\u001b[1;32m      6\u001b[0m     other = {k: v for k, v in record.items() \n\u001b[1;32m      7\u001b[0m              if k not in ('latitude', 'longitude')}\n",
      "\u001b[0;31mTypeError\u001b[0m: string indices must be integers"
     ]
    }
   ],
   "source": [
    "from shapely.geometry import Point\n",
    "\n",
    "records = []\n",
    "for record in get(EARTHCHEM_REST_URL, parameters).json():\n",
    "    loc = Point(float(record['longitude']), float(record['latitude']))\n",
    "    other = {k: v for k, v in record.items() \n",
    "             if k not in ('latitude', 'longitude')}\n",
    "    record = {'geometry': loc, **other}\n",
    "    records.append(record)"
   ]
  },
  {
   "cell_type": "code",
   "execution_count": null,
   "metadata": {},
   "outputs": [],
   "source": [
    "df = gpd.GeoDataFrame.from_records(records)"
   ]
  },
  {
   "cell_type": "code",
   "execution_count": 101,
   "metadata": {},
   "outputs": [],
   "source": [
    "from shapely import ops as shops\n",
    "import matplotlib.pyplot as plt"
   ]
  },
  {
   "cell_type": "code",
   "execution_count": 102,
   "metadata": {},
   "outputs": [
    {
     "data": {
      "text/plain": [
       "<matplotlib.collections.PathCollection at 0x7fec2f01c438>"
      ]
     },
     "execution_count": 102,
     "metadata": {},
     "output_type": "execute_result"
    },
    {
     "data": {
      "image/png": "[encoded data removed]",
      "text/plain": [
       "<Figure size 432x288 with 1 Axes>"
      ]
     },
     "metadata": {},
     "output_type": "display_data"
    }
   ],
   "source": [
    "gpd.plotting.plot_point_collection(plt.gca(), df.geometry)"
   ]
  },
  {
   "cell_type": "code",
   "execution_count": 97,
   "metadata": {},
   "outputs": [
    {
     "data": {
      "text/plain": [
       "0        POINT (176.5 -38.12)\n",
       "1     POINT (-121.854 45.938)\n",
       "2     POINT (-121.854 45.938)\n",
       "3     POINT (-121.854 45.938)\n",
       "4        POINT (176.5 -38.12)\n",
       "5       POINT (175.57 -39.82)\n",
       "6       POINT (175.57 -39.82)\n",
       "7       POINT (175.57 -39.82)\n",
       "8       POINT (175.57 -39.82)\n",
       "9       POINT (175.57 -39.82)\n",
       "10      POINT (175.57 -39.82)\n",
       "11      POINT (175.57 -39.82)\n",
       "12     POINT (-177.87 -29.25)\n",
       "13     POINT (-177.87 -29.25)\n",
       "14     POINT (-177.87 -29.25)\n",
       "15      POINT (175.57 -39.28)\n",
       "16      POINT (175.57 -39.28)\n",
       "17      POINT (175.57 -39.28)\n",
       "18      POINT (175.57 -39.82)\n",
       "19      POINT (175.57 -39.82)\n",
       "20      POINT (175.57 -39.82)\n",
       "21     POINT (-177.87 -29.25)\n",
       "22     POINT (-177.87 -29.25)\n",
       "23     POINT (-177.87 -29.25)\n",
       "24     POINT (-177.87 -29.25)\n",
       "25      POINT (175.57 -39.82)\n",
       "26      POINT (175.57 -39.82)\n",
       "27      POINT (175.57 -39.82)\n",
       "28      POINT (175.57 -39.82)\n",
       "29      POINT (175.57 -39.82)\n",
       "30      POINT (175.57 -39.28)\n",
       "31      POINT (175.57 -39.28)\n",
       "32      POINT (175.57 -39.28)\n",
       "33     POINT (-177.87 -29.25)\n",
       "34     POINT (-177.87 -29.25)\n",
       "35     POINT (-177.87 -29.25)\n",
       "36     POINT (-177.87 -29.25)\n",
       "37      POINT (175.57 -39.28)\n",
       "38      POINT (175.57 -39.82)\n",
       "39      POINT (175.57 -39.82)\n",
       "40      POINT (175.57 -39.82)\n",
       "41      POINT (175.57 -39.28)\n",
       "42     POINT (-177.87 -29.25)\n",
       "43      POINT (175.57 -39.82)\n",
       "44      POINT (175.57 -39.82)\n",
       "45      POINT (175.57 -39.82)\n",
       "46      POINT (175.57 -39.82)\n",
       "47      POINT (175.57 -39.82)\n",
       "48    POINT (174.065 -39.296)\n",
       "49    POINT (174.065 -39.296)\n",
       "Name: geometry, dtype: object"
      ]
     },
     "execution_count": 97,
     "metadata": {},
     "output_type": "execute_result"
    }
   ],
   "source": [
    "df.geometry"
   ]
  },
  {
   "cell_type": "code",
   "execution_count": 86,
   "metadata": {},
   "outputs": [
    {
     "data": {
      "text/plain": [
       "<matplotlib.axes._subplots.AxesSubplot at 0x7fec2f11fe10>"
      ]
     },
     "execution_count": 86,
     "metadata": {},
     "output_type": "execute_result"
    },
    {
     "data": {
      "image/png": "[encoded data removed]",
      "text/plain": [
       "<Figure size 432x288 with 1 Axes>"
      ]
     },
     "metadata": {},
     "output_type": "display_data"
    }
   ],
   "source": [
    "%matplotlib inline\n",
    "\n",
    "df.plot()"
   ]
  },
  {
   "cell_type": "code",
   "execution_count": 63,
   "metadata": {},
   "outputs": [],
   "source": [
    "import geojson"
   ]
  },
  {
   "cell_type": "code",
   "execution_count": 65,
   "metadata": {},
   "outputs": [
    {
     "data": {
      "text/html": [
       "<div>\n",
       "<style scoped>\n",
       "    .dataframe tbody tr th:only-of-type {\n",
       "        vertical-align: middle;\n",
       "    }\n",
       "\n",
       "    .dataframe tbody tr th {\n",
       "        vertical-align: top;\n",
       "    }\n",
       "\n",
       "    .dataframe thead th {\n",
       "        text-align: right;\n",
       "    }\n",
       "</style>\n",
       "<table border=\"1\" class=\"dataframe\">\n",
       "  <thead>\n",
       "    <tr style=\"text-align: right;\">\n",
       "      <th></th>\n",
       "      <th>latitude</th>\n",
       "      <th>longitude</th>\n",
       "      <th>sample_id</th>\n",
       "      <th>source</th>\n",
       "    </tr>\n",
       "  </thead>\n",
       "  <tbody>\n",
       "    <tr>\n",
       "      <th>0</th>\n",
       "      <td>-38.12</td>\n",
       "      <td>176.5</td>\n",
       "      <td>38010</td>\n",
       "      <td>GEOROC</td>\n",
       "    </tr>\n",
       "    <tr>\n",
       "      <th>1</th>\n",
       "      <td>45.938</td>\n",
       "      <td>-121.854</td>\n",
       "      <td>DS-26A-80</td>\n",
       "      <td>GEOROC</td>\n",
       "    </tr>\n",
       "    <tr>\n",
       "      <th>2</th>\n",
       "      <td>45.938</td>\n",
       "      <td>-121.854</td>\n",
       "      <td>DS-26A-80</td>\n",
       "      <td>GEOROC</td>\n",
       "    </tr>\n",
       "    <tr>\n",
       "      <th>3</th>\n",
       "      <td>45.938</td>\n",
       "      <td>-121.854</td>\n",
       "      <td>DS-26A-80</td>\n",
       "      <td>GEOROC</td>\n",
       "    </tr>\n",
       "    <tr>\n",
       "      <th>4</th>\n",
       "      <td>-38.12</td>\n",
       "      <td>176.5</td>\n",
       "      <td>46241</td>\n",
       "      <td>GEOROC</td>\n",
       "    </tr>\n",
       "    <tr>\n",
       "      <th>5</th>\n",
       "      <td>-39.82</td>\n",
       "      <td>175.57</td>\n",
       "      <td>R96/20</td>\n",
       "      <td>GEOROC</td>\n",
       "    </tr>\n",
       "    <tr>\n",
       "      <th>6</th>\n",
       "      <td>-39.82</td>\n",
       "      <td>175.57</td>\n",
       "      <td>R96/20</td>\n",
       "      <td>GEOROC</td>\n",
       "    </tr>\n",
       "    <tr>\n",
       "      <th>7</th>\n",
       "      <td>-39.82</td>\n",
       "      <td>175.57</td>\n",
       "      <td>R95/27</td>\n",
       "      <td>GEOROC</td>\n",
       "    </tr>\n",
       "    <tr>\n",
       "      <th>8</th>\n",
       "      <td>-39.82</td>\n",
       "      <td>175.57</td>\n",
       "      <td>T5-22</td>\n",
       "      <td>GEOROC</td>\n",
       "    </tr>\n",
       "    <tr>\n",
       "      <th>9</th>\n",
       "      <td>-39.82</td>\n",
       "      <td>175.57</td>\n",
       "      <td>R95/21</td>\n",
       "      <td>GEOROC</td>\n",
       "    </tr>\n",
       "    <tr>\n",
       "      <th>10</th>\n",
       "      <td>-39.82</td>\n",
       "      <td>175.57</td>\n",
       "      <td>R95/21</td>\n",
       "      <td>GEOROC</td>\n",
       "    </tr>\n",
       "    <tr>\n",
       "      <th>11</th>\n",
       "      <td>-39.82</td>\n",
       "      <td>175.57</td>\n",
       "      <td>R95/21</td>\n",
       "      <td>GEOROC</td>\n",
       "    </tr>\n",
       "    <tr>\n",
       "      <th>12</th>\n",
       "      <td>-29.25</td>\n",
       "      <td>-177.87</td>\n",
       "      <td>7088</td>\n",
       "      <td>GEOROC</td>\n",
       "    </tr>\n",
       "    <tr>\n",
       "      <th>13</th>\n",
       "      <td>-29.25</td>\n",
       "      <td>-177.87</td>\n",
       "      <td>7088</td>\n",
       "      <td>GEOROC</td>\n",
       "    </tr>\n",
       "    <tr>\n",
       "      <th>14</th>\n",
       "      <td>-29.25</td>\n",
       "      <td>-177.87</td>\n",
       "      <td>7088</td>\n",
       "      <td>GEOROC</td>\n",
       "    </tr>\n",
       "    <tr>\n",
       "      <th>15</th>\n",
       "      <td>-39.28</td>\n",
       "      <td>175.57</td>\n",
       "      <td>P57535</td>\n",
       "      <td>GEOROC</td>\n",
       "    </tr>\n",
       "    <tr>\n",
       "      <th>16</th>\n",
       "      <td>-39.28</td>\n",
       "      <td>175.57</td>\n",
       "      <td>P57535</td>\n",
       "      <td>GEOROC</td>\n",
       "    </tr>\n",
       "    <tr>\n",
       "      <th>17</th>\n",
       "      <td>-39.28</td>\n",
       "      <td>175.57</td>\n",
       "      <td>P57535</td>\n",
       "      <td>GEOROC</td>\n",
       "    </tr>\n",
       "    <tr>\n",
       "      <th>18</th>\n",
       "      <td>-39.82</td>\n",
       "      <td>175.57</td>\n",
       "      <td>W9-14</td>\n",
       "      <td>GEOROC</td>\n",
       "    </tr>\n",
       "    <tr>\n",
       "      <th>19</th>\n",
       "      <td>-39.82</td>\n",
       "      <td>175.57</td>\n",
       "      <td>W9-14</td>\n",
       "      <td>GEOROC</td>\n",
       "    </tr>\n",
       "    <tr>\n",
       "      <th>20</th>\n",
       "      <td>-39.82</td>\n",
       "      <td>175.57</td>\n",
       "      <td>W9-28</td>\n",
       "      <td>GEOROC</td>\n",
       "    </tr>\n",
       "    <tr>\n",
       "      <th>21</th>\n",
       "      <td>-29.25</td>\n",
       "      <td>-177.87</td>\n",
       "      <td>6982</td>\n",
       "      <td>GEOROC</td>\n",
       "    </tr>\n",
       "    <tr>\n",
       "      <th>22</th>\n",
       "      <td>-29.25</td>\n",
       "      <td>-177.87</td>\n",
       "      <td>6982</td>\n",
       "      <td>GEOROC</td>\n",
       "    </tr>\n",
       "    <tr>\n",
       "      <th>23</th>\n",
       "      <td>-29.25</td>\n",
       "      <td>-177.87</td>\n",
       "      <td>6982</td>\n",
       "      <td>GEOROC</td>\n",
       "    </tr>\n",
       "    <tr>\n",
       "      <th>24</th>\n",
       "      <td>-29.25</td>\n",
       "      <td>-177.87</td>\n",
       "      <td>6982</td>\n",
       "      <td>GEOROC</td>\n",
       "    </tr>\n",
       "    <tr>\n",
       "      <th>25</th>\n",
       "      <td>-39.82</td>\n",
       "      <td>175.57</td>\n",
       "      <td>R95/25</td>\n",
       "      <td>GEOROC</td>\n",
       "    </tr>\n",
       "    <tr>\n",
       "      <th>26</th>\n",
       "      <td>-39.82</td>\n",
       "      <td>175.57</td>\n",
       "      <td>R95/25</td>\n",
       "      <td>GEOROC</td>\n",
       "    </tr>\n",
       "    <tr>\n",
       "      <th>27</th>\n",
       "      <td>-39.82</td>\n",
       "      <td>175.57</td>\n",
       "      <td>R95/25</td>\n",
       "      <td>GEOROC</td>\n",
       "    </tr>\n",
       "    <tr>\n",
       "      <th>28</th>\n",
       "      <td>-39.82</td>\n",
       "      <td>175.57</td>\n",
       "      <td>R97/5B</td>\n",
       "      <td>GEOROC</td>\n",
       "    </tr>\n",
       "    <tr>\n",
       "      <th>29</th>\n",
       "      <td>-39.82</td>\n",
       "      <td>175.57</td>\n",
       "      <td>R97/115B</td>\n",
       "      <td>GEOROC</td>\n",
       "    </tr>\n",
       "    <tr>\n",
       "      <th>30</th>\n",
       "      <td>-39.28</td>\n",
       "      <td>175.57</td>\n",
       "      <td>R97/78</td>\n",
       "      <td>GEOROC</td>\n",
       "    </tr>\n",
       "    <tr>\n",
       "      <th>31</th>\n",
       "      <td>-39.28</td>\n",
       "      <td>175.57</td>\n",
       "      <td>R97/78</td>\n",
       "      <td>GEOROC</td>\n",
       "    </tr>\n",
       "    <tr>\n",
       "      <th>32</th>\n",
       "      <td>-39.28</td>\n",
       "      <td>175.57</td>\n",
       "      <td>R97/78</td>\n",
       "      <td>GEOROC</td>\n",
       "    </tr>\n",
       "    <tr>\n",
       "      <th>33</th>\n",
       "      <td>-29.25</td>\n",
       "      <td>-177.87</td>\n",
       "      <td>23387</td>\n",
       "      <td>GEOROC</td>\n",
       "    </tr>\n",
       "    <tr>\n",
       "      <th>34</th>\n",
       "      <td>-29.25</td>\n",
       "      <td>-177.87</td>\n",
       "      <td>23387</td>\n",
       "      <td>GEOROC</td>\n",
       "    </tr>\n",
       "    <tr>\n",
       "      <th>35</th>\n",
       "      <td>-29.25</td>\n",
       "      <td>-177.87</td>\n",
       "      <td>23387</td>\n",
       "      <td>GEOROC</td>\n",
       "    </tr>\n",
       "    <tr>\n",
       "      <th>36</th>\n",
       "      <td>-29.25</td>\n",
       "      <td>-177.87</td>\n",
       "      <td>23387</td>\n",
       "      <td>GEOROC</td>\n",
       "    </tr>\n",
       "    <tr>\n",
       "      <th>37</th>\n",
       "      <td>-39.28</td>\n",
       "      <td>175.57</td>\n",
       "      <td>R97/95</td>\n",
       "      <td>GEOROC</td>\n",
       "    </tr>\n",
       "    <tr>\n",
       "      <th>38</th>\n",
       "      <td>-39.82</td>\n",
       "      <td>175.57</td>\n",
       "      <td>R96/2</td>\n",
       "      <td>GEOROC</td>\n",
       "    </tr>\n",
       "    <tr>\n",
       "      <th>39</th>\n",
       "      <td>-39.82</td>\n",
       "      <td>175.57</td>\n",
       "      <td>R96/2</td>\n",
       "      <td>GEOROC</td>\n",
       "    </tr>\n",
       "    <tr>\n",
       "      <th>40</th>\n",
       "      <td>-39.82</td>\n",
       "      <td>175.57</td>\n",
       "      <td>R96/2</td>\n",
       "      <td>GEOROC</td>\n",
       "    </tr>\n",
       "    <tr>\n",
       "      <th>41</th>\n",
       "      <td>-39.28</td>\n",
       "      <td>175.57</td>\n",
       "      <td>R97/33</td>\n",
       "      <td>GEOROC</td>\n",
       "    </tr>\n",
       "    <tr>\n",
       "      <th>42</th>\n",
       "      <td>-29.25</td>\n",
       "      <td>-177.87</td>\n",
       "      <td>7135</td>\n",
       "      <td>GEOROC</td>\n",
       "    </tr>\n",
       "    <tr>\n",
       "      <th>43</th>\n",
       "      <td>-39.82</td>\n",
       "      <td>175.57</td>\n",
       "      <td>R97/112</td>\n",
       "      <td>GEOROC</td>\n",
       "    </tr>\n",
       "    <tr>\n",
       "      <th>44</th>\n",
       "      <td>-39.82</td>\n",
       "      <td>175.57</td>\n",
       "      <td>R97/112</td>\n",
       "      <td>GEOROC</td>\n",
       "    </tr>\n",
       "    <tr>\n",
       "      <th>45</th>\n",
       "      <td>-39.82</td>\n",
       "      <td>175.57</td>\n",
       "      <td>R97/112</td>\n",
       "      <td>GEOROC</td>\n",
       "    </tr>\n",
       "    <tr>\n",
       "      <th>46</th>\n",
       "      <td>-39.82</td>\n",
       "      <td>175.57</td>\n",
       "      <td>R97/112</td>\n",
       "      <td>GEOROC</td>\n",
       "    </tr>\n",
       "    <tr>\n",
       "      <th>47</th>\n",
       "      <td>-39.82</td>\n",
       "      <td>175.57</td>\n",
       "      <td>R97/112</td>\n",
       "      <td>GEOROC</td>\n",
       "    </tr>\n",
       "    <tr>\n",
       "      <th>48</th>\n",
       "      <td>-39.296</td>\n",
       "      <td>174.065</td>\n",
       "      <td>24/06C</td>\n",
       "      <td>GEOROC</td>\n",
       "    </tr>\n",
       "    <tr>\n",
       "      <th>49</th>\n",
       "      <td>-39.296</td>\n",
       "      <td>174.065</td>\n",
       "      <td>24/06C</td>\n",
       "      <td>GEOROC</td>\n",
       "    </tr>\n",
       "  </tbody>\n",
       "</table>\n",
       "</div>"
      ],
      "text/plain": [
       "   latitude longitude  sample_id  source\n",
       "0    -38.12     176.5      38010  GEOROC\n",
       "1    45.938  -121.854  DS-26A-80  GEOROC\n",
       "2    45.938  -121.854  DS-26A-80  GEOROC\n",
       "3    45.938  -121.854  DS-26A-80  GEOROC\n",
       "4    -38.12     176.5      46241  GEOROC\n",
       "5    -39.82    175.57     R96/20  GEOROC\n",
       "6    -39.82    175.57     R96/20  GEOROC\n",
       "7    -39.82    175.57     R95/27  GEOROC\n",
       "8    -39.82    175.57      T5-22  GEOROC\n",
       "9    -39.82    175.57     R95/21  GEOROC\n",
       "10   -39.82    175.57     R95/21  GEOROC\n",
       "11   -39.82    175.57     R95/21  GEOROC\n",
       "12   -29.25   -177.87       7088  GEOROC\n",
       "13   -29.25   -177.87       7088  GEOROC\n",
       "14   -29.25   -177.87       7088  GEOROC\n",
       "15   -39.28    175.57     P57535  GEOROC\n",
       "16   -39.28    175.57     P57535  GEOROC\n",
       "17   -39.28    175.57     P57535  GEOROC\n",
       "18   -39.82    175.57      W9-14  GEOROC\n",
       "19   -39.82    175.57      W9-14  GEOROC\n",
       "20   -39.82    175.57      W9-28  GEOROC\n",
       "21   -29.25   -177.87       6982  GEOROC\n",
       "22   -29.25   -177.87       6982  GEOROC\n",
       "23   -29.25   -177.87       6982  GEOROC\n",
       "24   -29.25   -177.87       6982  GEOROC\n",
       "25   -39.82    175.57     R95/25  GEOROC\n",
       "26   -39.82    175.57     R95/25  GEOROC\n",
       "27   -39.82    175.57     R95/25  GEOROC\n",
       "28   -39.82    175.57     R97/5B  GEOROC\n",
       "29   -39.82    175.57   R97/115B  GEOROC\n",
       "30   -39.28    175.57     R97/78  GEOROC\n",
       "31   -39.28    175.57     R97/78  GEOROC\n",
       "32   -39.28    175.57     R97/78  GEOROC\n",
       "33   -29.25   -177.87      23387  GEOROC\n",
       "34   -29.25   -177.87      23387  GEOROC\n",
       "35   -29.25   -177.87      23387  GEOROC\n",
       "36   -29.25   -177.87      23387  GEOROC\n",
       "37   -39.28    175.57     R97/95  GEOROC\n",
       "38   -39.82    175.57      R96/2  GEOROC\n",
       "39   -39.82    175.57      R96/2  GEOROC\n",
       "40   -39.82    175.57      R96/2  GEOROC\n",
       "41   -39.28    175.57     R97/33  GEOROC\n",
       "42   -29.25   -177.87       7135  GEOROC\n",
       "43   -39.82    175.57    R97/112  GEOROC\n",
       "44   -39.82    175.57    R97/112  GEOROC\n",
       "45   -39.82    175.57    R97/112  GEOROC\n",
       "46   -39.82    175.57    R97/112  GEOROC\n",
       "47   -39.82    175.57    R97/112  GEOROC\n",
       "48  -39.296   174.065     24/06C  GEOROC\n",
       "49  -39.296   174.065     24/06C  GEOROC"
      ]
     },
     "execution_count": 65,
     "metadata": {},
     "output_type": "execute_result"
    }
   ],
   "source": [
    "gpd.GeoDataFrame.from_records(geojson.loads(result))"
   ]
  },
  {
   "cell_type": "code",
   "execution_count": null,
   "metadata": {},
   "outputs": [],
   "source": []
  }
 ],
 "metadata": {
  "kernelspec": {
   "display_name": "Python [conda env:earthchem]",
   "language": "python",
   "name": "conda-env-earthchem-py"
  },
  "language_info": {
   "codemirror_mode": {
    "name": "ipython",
    "version": 3
   },
   "file_extension": ".py",
   "mimetype": "text/x-python",
   "name": "python",
   "nbconvert_exporter": "python",
   "pygments_lexer": "ipython3",
   "version": "3.6.5"
  }
 },
 "nbformat": 4,
 "nbformat_minor": 2
}
